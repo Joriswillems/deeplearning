{
  "nbformat": 4,
  "nbformat_minor": 0,
  "metadata": {
    "colab": {
      "name": "GettingStarted.ipynb",
      "provenance": [],
      "collapsed_sections": []
    },
    "kernelspec": {
      "name": "python3",
      "display_name": "Python 3"
    }
  },
  "cells": [
    {
      "cell_type": "markdown",
      "metadata": {
        "id": "0TiCbRCHAkXC",
        "colab_type": "text"
      },
      "source": [
        "# Getting started with TensorFlow 2\n",
        "\n",
        "In this tutorial we will introduce the basic concepts of TensorFlow 2. Let's start with importing the tensorflow and numpy libraries and making sure that TensorFlow version is at least 2.0."
      ]
    },
    {
      "cell_type": "code",
      "metadata": {
        "id": "UAq3RSnGBDuX",
        "colab_type": "code",
        "outputId": "dba9feb8-2360-4931-e2d7-b651b7af567d",
        "colab": {
          "base_uri": "https://localhost:8080/",
          "height": 34
        }
      },
      "source": [
        "import tensorflow as tf\n",
        "import numpy as np\n",
        "tf.__version__"
      ],
      "execution_count": 1,
      "outputs": [
        {
          "output_type": "execute_result",
          "data": {
            "text/plain": [
              "'2.2.0-rc3'"
            ]
          },
          "metadata": {
            "tags": []
          },
          "execution_count": 1
        }
      ]
    },
    {
      "cell_type": "markdown",
      "metadata": {
        "id": "CEjyK0HKBE-Y",
        "colab_type": "text"
      },
      "source": [
        "## Basics\n",
        "\n",
        "Now let us look at a simple example of multiplying two numbers:"
      ]
    },
    {
      "cell_type": "code",
      "metadata": {
        "id": "3etaVKv561Zy",
        "colab_type": "code",
        "outputId": "d2e1d388-b6d2-42df-af85-31315e19b3bc",
        "colab": {
          "base_uri": "https://localhost:8080/",
          "height": 34
        }
      },
      "source": [
        "a = tf.constant(2)\n",
        "b = tf.constant(10)\n",
        "c = tf.multiply(a,b)\n",
        "print(c)"
      ],
      "execution_count": 2,
      "outputs": [
        {
          "output_type": "stream",
          "text": [
            "tf.Tensor(20, shape=(), dtype=int32)\n"
          ],
          "name": "stdout"
        }
      ]
    },
    {
      "cell_type": "markdown",
      "metadata": {
        "id": "z-4OOnJhCDnE",
        "colab_type": "text"
      },
      "source": [
        "The variables `a`, `b`, and `c` are of the [Tensor](https://www.tensorflow.org/guide/tensor) type. Tensors are a generalization of vectors and matrices to higher dimensions and are the basic building blocks of TensorFlow.\n",
        "\n",
        "In this course you will work a lot with matrices, so let us multiply two matrices:"
      ]
    },
    {
      "cell_type": "code",
      "metadata": {
        "id": "gI-ksfEYCCMS",
        "colab_type": "code",
        "outputId": "267a943f-c7d1-4dd8-f496-76f1a69b921b",
        "colab": {
          "base_uri": "https://localhost:8080/",
          "height": 68
        }
      },
      "source": [
        "W = tf.constant([[1, 2], [3, 4]], dtype=np.float32)\n",
        "x = tf.constant([[1], [0]], dtype=np.float32)\n",
        "b = tf.constant([[0.1], [0.2]])\n",
        "Z = tf.add(tf.matmul(W,x), b)\n",
        "print(Z)"
      ],
      "execution_count": 3,
      "outputs": [
        {
          "output_type": "stream",
          "text": [
            "tf.Tensor(\n",
            "[[1.1]\n",
            " [3.2]], shape=(2, 1), dtype=float32)\n"
          ],
          "name": "stdout"
        }
      ]
    },
    {
      "cell_type": "markdown",
      "metadata": {
        "id": "BT3yo9PuDzQY",
        "colab_type": "text"
      },
      "source": [
        "Note how we have specified the type of the values in the `W` and `x` matrices using `dtype=np.float32`, otherwise integer values may have been assumed.\n",
        "\n",
        "It is very important that the shapes match. You can inspect the shape of a tensor by printing it:"
      ]
    },
    {
      "cell_type": "code",
      "metadata": {
        "id": "mtiaYAmL62Cq",
        "colab_type": "code",
        "outputId": "1c8478c0-db53-46c6-c0c5-d2d1865920d3",
        "colab": {
          "base_uri": "https://localhost:8080/",
          "height": 119
        }
      },
      "source": [
        "print(W)\n",
        "print(x)"
      ],
      "execution_count": 4,
      "outputs": [
        {
          "output_type": "stream",
          "text": [
            "tf.Tensor(\n",
            "[[1. 2.]\n",
            " [3. 4.]], shape=(2, 2), dtype=float32)\n",
            "tf.Tensor(\n",
            "[[1.]\n",
            " [0.]], shape=(2, 1), dtype=float32)\n"
          ],
          "name": "stdout"
        }
      ]
    },
    {
      "cell_type": "markdown",
      "metadata": {
        "id": "r6iSaC58B0rf",
        "colab_type": "text"
      },
      "source": [
        "The `*` and `+` operation are overloaded, however, note that `*` is overloaded with `tf.multiply()`, which performs element-wise multiplication:"
      ]
    },
    {
      "cell_type": "code",
      "metadata": {
        "id": "r_CYbdYxFR3J",
        "colab_type": "code",
        "outputId": "d7f4f305-603c-4c57-b3b1-fa2f4ceba099",
        "colab": {
          "base_uri": "https://localhost:8080/",
          "height": 68
        }
      },
      "source": [
        "print(W*x + b)"
      ],
      "execution_count": 5,
      "outputs": [
        {
          "output_type": "stream",
          "text": [
            "tf.Tensor(\n",
            "[[1.1 2.1]\n",
            " [0.2 0.2]], shape=(2, 2), dtype=float32)\n"
          ],
          "name": "stdout"
        }
      ]
    },
    {
      "cell_type": "markdown",
      "metadata": {
        "id": "_f_8_2y3GVCQ",
        "colab_type": "text"
      },
      "source": [
        "TensorFlow implements many useful functions, e.g. the sigmoid function, which can be applied to scalar values:"
      ]
    },
    {
      "cell_type": "code",
      "metadata": {
        "id": "p6c-TFEgtJKg",
        "colab_type": "code",
        "outputId": "59d740d6-19a4-440d-ea0f-c8d84b75488d",
        "colab": {
          "base_uri": "https://localhost:8080/",
          "height": 34
        }
      },
      "source": [
        "print(tf.sigmoid(0.0))"
      ],
      "execution_count": 6,
      "outputs": [
        {
          "output_type": "stream",
          "text": [
            "tf.Tensor(0.5, shape=(), dtype=float32)\n"
          ],
          "name": "stdout"
        }
      ]
    },
    {
      "cell_type": "markdown",
      "metadata": {
        "id": "e_c_BgpetJT9",
        "colab_type": "text"
      },
      "source": [
        "or tensors:"
      ]
    },
    {
      "cell_type": "code",
      "metadata": {
        "id": "fuLGvls1FYYX",
        "colab_type": "code",
        "outputId": "bd83bd7b-bae6-44f1-81a7-b96982da2361",
        "colab": {
          "base_uri": "https://localhost:8080/",
          "height": 68
        }
      },
      "source": [
        "Y = tf.sigmoid(Z)\n",
        "print(Y)"
      ],
      "execution_count": 7,
      "outputs": [
        {
          "output_type": "stream",
          "text": [
            "tf.Tensor(\n",
            "[[0.7502601 ]\n",
            " [0.96083426]], shape=(2, 1), dtype=float32)\n"
          ],
          "name": "stdout"
        }
      ]
    },
    {
      "cell_type": "markdown",
      "metadata": {
        "id": "lrICqBBgu9v7",
        "colab_type": "text"
      },
      "source": [
        "## Gradient descent\n",
        "\n",
        "Let us now try to find the minimum of the function\n",
        "\n",
        "$f(x) = x^2 - 8x + 16$\n",
        "\n",
        "If we rewrite it to $(x - 4)^2$, we can immediately see that $x=4$ will minimize $f$. We will use this simple example to show how TensorFlow can be used to automatically find the value of $x$ that minimizes $f$.\n",
        "\n",
        "1. Define the [variable](https://www.tensorflow.org/guide/variable) `x` and assign it an initial value 10. The argument `name='x'` is useful for printing the value of a tensor:"
      ]
    },
    {
      "cell_type": "code",
      "metadata": {
        "id": "W6fdg1R9zkLH",
        "colab_type": "code",
        "colab": {}
      },
      "source": [
        "x = tf.Variable(10, name='x', trainable=True, dtype=tf.float32)"
      ],
      "execution_count": 0,
      "outputs": []
    },
    {
      "cell_type": "markdown",
      "metadata": {
        "id": "QixNYvfi3_Sy",
        "colab_type": "text"
      },
      "source": [
        "2. Define the function `f` that will be minimized. The function takes no arguments and returns a tensor expression:"
      ]
    },
    {
      "cell_type": "code",
      "metadata": {
        "id": "Urn-_hbp4AvX",
        "colab_type": "code",
        "colab": {}
      },
      "source": [
        "def f():\n",
        "  return x*x - 8*x + 16"
      ],
      "execution_count": 0,
      "outputs": []
    },
    {
      "cell_type": "markdown",
      "metadata": {
        "id": "IWUezuqq3_ty",
        "colab_type": "text"
      },
      "source": [
        "3. Define the optimizer. TensorFlow implements many [optimizers](https://www.tensorflow.org/api_docs/python/tf/keras/optimizers) and ways to train Here, we will use the stochastic gradient descent, with learning rate 0.1:"
      ]
    },
    {
      "cell_type": "code",
      "metadata": {
        "id": "wq9yZ96Ezkpz",
        "colab_type": "code",
        "colab": {}
      },
      "source": [
        "opt = tf.keras.optimizers.SGD(learning_rate=0.1)"
      ],
      "execution_count": 0,
      "outputs": []
    },
    {
      "cell_type": "markdown",
      "metadata": {
        "id": "fbVVez4sNaec",
        "colab_type": "text"
      },
      "source": [
        "4. Run the optimizer. Here, we minimize the loss function `f` with respect to the variable `x`, and run it for 100 iterations:"
      ]
    },
    {
      "cell_type": "code",
      "metadata": {
        "id": "z2x33QoLNal5",
        "colab_type": "code",
        "outputId": "6d3aff1c-eb20-4ab6-f1f3-086d28c97c68",
        "colab": {
          "base_uri": "https://localhost:8080/",
          "height": 34
        }
      },
      "source": [
        "for i in range(100):\n",
        "  opt.minimize(f, var_list=[x])\n",
        "print(x)"
      ],
      "execution_count": 11,
      "outputs": [
        {
          "output_type": "stream",
          "text": [
            "<tf.Variable 'x:0' shape=() dtype=float32, numpy=4.000001>\n"
          ],
          "name": "stdout"
        }
      ]
    },
    {
      "cell_type": "markdown",
      "metadata": {
        "id": "-91RhCMeOJbV",
        "colab_type": "text"
      },
      "source": [
        "The value of `x` is very close to 4, as expected.\n",
        "\n",
        "As next steps, you may like to learn more about [custom training](https://www.tensorflow.org/tutorials/customization/custom_training) in TensorFlow, or visit the [tutorials](https://www.tensorflow.org/tutorials)."
      ]
    }
  ]
}
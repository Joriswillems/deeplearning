{
 "cells": [
  {
   "cell_type": "markdown",
   "metadata": {
    "colab_type": "text",
    "id": "7ORVPadj7rKq"
   },
   "source": [
    "# Assignment 1\n",
    "\n",
    "<b>Group 82</b>\n",
    "* <b> Student 1 </b> : Joris Willems, 0908753\n",
    "* <b> Student 2 </b> : Lars Schilders, 0908729\n",
    "\n",
    "**Reading material**\n",
    "* [1] Mikolov, Tomas, et al. \"[Efficient Estimation of Word Representations in Vector Space](https://arxiv.org/abs/1301.3781)\" Advances in neural information processing systems. 2013. \n",
    "\n",
    "<b><font color='red'>NOTE</font></b> When submitting your notebook, please make sure that the training history of your model is visible in the output. This means that you should **NOT** clean your output cells of the notebook. Make sure that your notebook runs without errors in linear order.\n",
    "\n"
   ]
  },
  {
   "cell_type": "markdown",
   "metadata": {
    "colab_type": "text",
    "id": "6rQwLyiMFu_1"
   },
   "source": [
    "# Question 1 - Keras implementation (10 pt)\n",
    "\n",
    "### Word embeddings\n",
    "Build word embeddings with a Keras implementation where the embedding vector is of length 50, 150 and 300. Use the Alice in Wonderland text book for training. Use a window size of 2 to train the embeddings (`window_size` in the jupyter notebook). \n",
    "\n",
    "1. Build word embeddings of length 50, 150 and 300 using the Skipgram model\n",
    "2. Build word embeddings of length 50, 150 and 300 using CBOW model\n",
    "3. Analyze the different word embeddings:\n",
    "    - Implement your own function to perform the analogy task (see [1] for concrete examples). Use the same distance metric as in the paper. Do not use existing libraries for this task such as Gensim. \n",
    "Your function should be able to answer whether an analogy like: \"a king is to a queen as a man is to a woman\" ($e_{king} - e_{queen} + e_{woman} \\approx e_{man}$) is true. $e_{x}$ denotes the embedding of word $x$. We want to find the word $p$ in the vocabulary, where the embedding of $p$ ($e_p$) is the closest to the predicted embedding (i.e. result of the formula). Then, we can check if $p$ is the same word as the true word $t$.\n",
    "    - Give at least 5 different  examples of analogies.\n",
    "    - Compare the performance on the analogy tasks between the word embeddings and briefly discuss your results.\n",
    "\n",
    "4. Discuss:\n",
    "  - Given the same number of sentences as input, CBOW and Skipgram arrange the data into different number of training samples. Which one has more and why?\n",
    "\n",
    "\n",
    "<b>HINT</b> See practical 3.1 for some helpful code to start this assignment.\n"
   ]
  },
  {
   "cell_type": "markdown",
   "metadata": {
    "colab_type": "text",
    "id": "ctoyAoX1AI6T"
   },
   "source": [
    "### Import libraries"
   ]
  },
  {
   "cell_type": "code",
   "execution_count": 1,
   "metadata": {
    "colab": {},
    "colab_type": "code",
    "id": "x5VOelR7BYQ1"
   },
   "outputs": [
    {
     "name": "stderr",
     "output_type": "stream",
     "text": [
      "UsageError: Line magic function `%tensorflow_version` not found.\n"
     ]
    }
   ],
   "source": [
    "%tensorflow_version 2.x"
   ]
  },
  {
   "cell_type": "code",
   "execution_count": 36,
   "metadata": {
    "colab": {
     "base_uri": "https://localhost:8080/",
     "height": 34
    },
    "colab_type": "code",
    "executionInfo": {
     "elapsed": 6983,
     "status": "ok",
     "timestamp": 1589279725100,
     "user": {
      "displayName": "Lars Schilders",
      "photoUrl": "",
      "userId": "04132714612324641452"
     },
     "user_tz": -120
    },
    "id": "vCnATRPgBZEd",
    "outputId": "66766056-0360-4bcb-8240-27b98039d1a1"
   },
   "outputs": [],
   "source": [
    "import numpy as np\n",
    "import keras.backend as K\n",
    "import tensorflow as tf\n",
    "from tensorflow import keras\n",
    "\n",
    "from tensorflow.keras.models import Sequential\n",
    "from tensorflow.keras.layers import Dense, Embedding, Reshape, Lambda\n",
    "from tensorflow.keras.utils import to_categorical\n",
    "from tensorflow.keras.preprocessing.text import Tokenizer\n",
    "from tensorflow.keras.utils import plot_model\n",
    "from tensorflow.keras.preprocessing import sequence\n",
    "\n",
    "# other helpful libraries\n",
    "from sklearn.manifold import TSNE\n",
    "from sklearn.metrics.pairwise import cosine_similarity\n",
    "from sklearn.neighbors import NearestNeighbors as nn\n",
    "from matplotlib import pylab as plt\n",
    "import pandas as pd"
   ]
  },
  {
   "cell_type": "code",
   "execution_count": 37,
   "metadata": {},
   "outputs": [],
   "source": [
    "def save_history(path, history):\n",
    "    import json, os\n",
    "    with open(path, 'w') as f:\n",
    "        json.dump(history.history, f)\n",
    "        \n",
    "def save_embedding(path, model):\n",
    "    np.save(path, model.get_weights()[0])\n",
    "    \n",
    "def plot_history(history, title):\n",
    "    pd.DataFrame(history.history).plot()\n",
    "    plt.title(title)\n",
    "    plt.xlabel(\"epochs\")\n",
    "    plt.ylabel(\"Cross-Entropy\")\n",
    "    plt.show()\n",
    "    "
   ]
  },
  {
   "cell_type": "code",
   "execution_count": 3,
   "metadata": {
    "colab": {
     "base_uri": "https://localhost:8080/",
     "height": 34
    },
    "colab_type": "code",
    "executionInfo": {
     "elapsed": 6981,
     "status": "ok",
     "timestamp": 1589279725101,
     "user": {
      "displayName": "Lars Schilders",
      "photoUrl": "",
      "userId": "04132714612324641452"
     },
     "user_tz": -120
    },
    "id": "qBNCPtOoBbB1",
    "outputId": "8cf8d48f-9b08-478c-e7a3-288bb932eaf3"
   },
   "outputs": [
    {
     "name": "stdout",
     "output_type": "stream",
     "text": [
      "2.1.0\n"
     ]
    }
   ],
   "source": [
    "print(tf.__version__) #  check what version of TF is imported"
   ]
  },
  {
   "cell_type": "markdown",
   "metadata": {
    "colab_type": "text",
    "id": "WCd0zUO1AKjY"
   },
   "source": [
    "### Import file\n",
    "\n",
    "If you use Google Colab, you need to mount your Google Drive to the notebook when you want to use files that are located in your Google Drive. Paste the authorization code, from the new tab page that opens automatically when running the cell, in the cell below."
   ]
  },
  {
   "cell_type": "code",
   "execution_count": 4,
   "metadata": {
    "colab": {
     "base_uri": "https://localhost:8080/",
     "height": 122
    },
    "colab_type": "code",
    "executionInfo": {
     "elapsed": 24562,
     "status": "ok",
     "timestamp": 1589279742721,
     "user": {
      "displayName": "Lars Schilders",
      "photoUrl": "",
      "userId": "04132714612324641452"
     },
     "user_tz": -120
    },
    "id": "DdjNeehKBd-a",
    "outputId": "bccb459c-8be3-467d-9598-760ae04e7084"
   },
   "outputs": [
    {
     "ename": "ModuleNotFoundError",
     "evalue": "No module named 'google.colab'",
     "output_type": "error",
     "traceback": [
      "\u001b[0;31m---------------------------------------------------------------------------\u001b[0m",
      "\u001b[0;31mModuleNotFoundError\u001b[0m                       Traceback (most recent call last)",
      "\u001b[0;32m<ipython-input-4-d5df0069828e>\u001b[0m in \u001b[0;36m<module>\u001b[0;34m\u001b[0m\n\u001b[0;32m----> 1\u001b[0;31m \u001b[0;32mfrom\u001b[0m \u001b[0mgoogle\u001b[0m\u001b[0;34m.\u001b[0m\u001b[0mcolab\u001b[0m \u001b[0;32mimport\u001b[0m \u001b[0mdrive\u001b[0m\u001b[0;34m\u001b[0m\u001b[0;34m\u001b[0m\u001b[0m\n\u001b[0m\u001b[1;32m      2\u001b[0m \u001b[0mdrive\u001b[0m\u001b[0;34m.\u001b[0m\u001b[0mmount\u001b[0m\u001b[0;34m(\u001b[0m\u001b[0;34m'/content/drive'\u001b[0m\u001b[0;34m)\u001b[0m\u001b[0;34m\u001b[0m\u001b[0;34m\u001b[0m\u001b[0m\n",
      "\u001b[0;31mModuleNotFoundError\u001b[0m: No module named 'google.colab'"
     ]
    }
   ],
   "source": [
    "from google.colab import drive\n",
    "drive.mount('/content/drive')"
   ]
  },
  {
   "cell_type": "markdown",
   "metadata": {
    "colab_type": "text",
    "id": "UjIVBt8YGUaO"
   },
   "source": [
    "Navigate to the folder in which `alice.txt` is located. Make sure to start path with '/content/drive/My Drive/' if you want to load the file from your Google Drive."
   ]
  },
  {
   "cell_type": "code",
   "execution_count": null,
   "metadata": {
    "colab": {
     "base_uri": "https://localhost:8080/",
     "height": 34
    },
    "colab_type": "code",
    "executionInfo": {
     "elapsed": 555,
     "status": "ok",
     "timestamp": 1589279763064,
     "user": {
      "displayName": "Lars Schilders",
      "photoUrl": "",
      "userId": "04132714612324641452"
     },
     "user_tz": -120
    },
    "id": "iS0-uINUBfic",
    "outputId": "a7068012-ab31-4d87-a9b8-2ac9c37fb194"
   },
   "outputs": [],
   "source": [
    "cd '/content/drive/My Drive/Colab Notebooks/2IMM10 - Deep Learning/'"
   ]
  },
  {
   "cell_type": "code",
   "execution_count": 4,
   "metadata": {
    "colab": {},
    "colab_type": "code",
    "id": "Gz8Z5gCDBhSl"
   },
   "outputs": [],
   "source": [
    "file_name = 'alice.txt'\n",
    "corpus = open(file_name).readlines()"
   ]
  },
  {
   "cell_type": "markdown",
   "metadata": {
    "colab_type": "text",
    "id": "zkbk32wHANnD"
   },
   "source": [
    "### Data preprocessing\n",
    "\n",
    "See Practical 3.1 for an explanation of the preprocessing steps done below."
   ]
  },
  {
   "cell_type": "code",
   "execution_count": 5,
   "metadata": {
    "colab": {},
    "colab_type": "code",
    "id": "37PyOHq2BkY4"
   },
   "outputs": [],
   "source": [
    "# Removes sentences with fewer than 3 words\n",
    "corpus = [sentence for sentence in corpus if sentence.count(\" \") >= 2]\n",
    "\n",
    "# remove punctuation in text and fit tokenizer on entire corpus\n",
    "tokenizer = Tokenizer(filters='!\"#$%&()*+,-./:;<=>?@[\\\\]^_`{|}~\\t\\n'+\"'\")\n",
    "tokenizer.fit_on_texts(corpus)\n",
    "\n",
    "# convert text to sequence of integer values\n",
    "corpus = tokenizer.texts_to_sequences(corpus)\n",
    "n_samples = sum(len(s) for s in corpus) # total number of words in the corpus\n",
    "V = len(tokenizer.word_index) + 1 # total number of unique words in the corpus"
   ]
  },
  {
   "cell_type": "code",
   "execution_count": 6,
   "metadata": {
    "colab": {
     "base_uri": "https://localhost:8080/",
     "height": 34
    },
    "colab_type": "code",
    "executionInfo": {
     "elapsed": 362,
     "status": "ok",
     "timestamp": 1589279777863,
     "user": {
      "displayName": "Lars Schilders",
      "photoUrl": "",
      "userId": "04132714612324641452"
     },
     "user_tz": -120
    },
    "id": "ILdA_IimBlte",
    "outputId": "30756520-d777-4968-ff46-d5364fc5bf4e"
   },
   "outputs": [
    {
     "name": "stdout",
     "output_type": "stream",
     "text": [
      "Number of words in corpus: 27165 \n",
      "Number of words in vocabulary: 2557\n"
     ]
    }
   ],
   "source": [
    "print(\"Number of words in corpus: {} \\nNumber of words in vocabulary: {}\".format(n_samples, V))"
   ]
  },
  {
   "cell_type": "code",
   "execution_count": 7,
   "metadata": {
    "colab": {
     "base_uri": "https://localhost:8080/",
     "height": 34
    },
    "colab_type": "code",
    "executionInfo": {
     "elapsed": 594,
     "status": "ok",
     "timestamp": 1589279780456,
     "user": {
      "displayName": "Lars Schilders",
      "photoUrl": "",
      "userId": "04132714612324641452"
     },
     "user_tz": -120
    },
    "id": "fRbpue0WBms6",
    "outputId": "ebbf9719-6d1f-4a02-ec75-cdbe1ecc9589"
   },
   "outputs": [
    {
     "name": "stdout",
     "output_type": "stream",
     "text": [
      "[('the', 1), ('and', 2), ('to', 3), ('a', 4), ('it', 5)]\n"
     ]
    }
   ],
   "source": [
    "# example of how word to integer mapping looks like in the tokenizer\n",
    "print(list((tokenizer.word_index.items()))[:5])"
   ]
  },
  {
   "cell_type": "code",
   "execution_count": 8,
   "metadata": {
    "colab": {},
    "colab_type": "code",
    "id": "Er86VxH9BqI9"
   },
   "outputs": [],
   "source": [
    "# parameters\n",
    "window_size = 2\n",
    "window_size_corpus = 4"
   ]
  },
  {
   "cell_type": "markdown",
   "metadata": {
    "colab_type": "text",
    "id": "M0sU1JORATvX"
   },
   "source": [
    "## Task 1.1 - Skipgram\n",
    "Build word embeddings of length 50, 150 and 300 using the Skipgram model."
   ]
  },
  {
   "cell_type": "code",
   "execution_count": 41,
   "metadata": {
    "colab": {},
    "colab_type": "code",
    "id": "Udp1xKcDBu0v"
   },
   "outputs": [],
   "source": [
    "#prepare data for skipgram\n",
    "def generate_data_skipgram(corpus, window_size, V):\n",
    "\n",
    "    maxlen = window_size*2\n",
    "    all_in = []\n",
    "    all_out = []\n",
    "    for words in corpus:\n",
    "        L = len(words)\n",
    "        for index, word in enumerate(words):\n",
    "            p = index - window_size\n",
    "            n = index + window_size + 1\n",
    "                    \n",
    "            in_words = []\n",
    "            labels = []\n",
    "            for i in range(p, n):\n",
    "                if i != index and 0 <= i < L:\n",
    "                    # Add the input word\n",
    "                    #in_words.append(word)\n",
    "                    all_in.append(word)\n",
    "                    # Add one-hot of the context words\n",
    "                    all_out.append(to_categorical(words[i], V))\n",
    "                                      \n",
    "    return (np.array(all_in),np.array(all_out))"
   ]
  },
  {
   "cell_type": "code",
   "execution_count": 42,
   "metadata": {
    "colab": {},
    "colab_type": "code",
    "id": "qXBGNrKTB0tO"
   },
   "outputs": [],
   "source": [
    "# create training data\n",
    "x , y = generate_data_skipgram(corpus,window_size,V)"
   ]
  },
  {
   "cell_type": "code",
   "execution_count": 40,
   "metadata": {
    "colab": {},
    "colab_type": "code",
    "id": "J1FTkStoDLFQ"
   },
   "outputs": [
    {
     "name": "stdout",
     "output_type": "stream",
     "text": [
      "Train on 94556 samples\n",
      "Epoch 1/2\n",
      "94556/94556 [==============================] - 3s 35us/sample - loss: 5.0282\n",
      "Epoch 2/2\n",
      "94556/94556 [==============================] - 3s 35us/sample - loss: 4.9917\n"
     ]
    },
    {
     "data": {
      "image/png": "[encoded data removed]",
      "text/plain": [
       "<Figure size 432x288 with 1 Axes>"
      ]
     },
     "metadata": {
      "needs_background": "light"
     },
     "output_type": "display_data"
    }
   ],
   "source": [
    "# create skipgram architecture\n",
    "def build_skipgram(dim):\n",
    "    skipgram = Sequential()\n",
    "    skipgram.add(Embedding(input_dim=V, output_dim=dim, embeddings_initializer='glorot_uniform', input_length=1))\n",
    "    skipgram.add(Reshape((dim, )))\n",
    "    skipgram.add(Dense(V, kernel_initializer='glorot_uniform', activation='softmax'))\n",
    "    skipgram.compile(loss='categorical_crossentropy', optimizer=keras.optimizers.SGD(learning_rate=1))\n",
    "    return skipgram\n",
    "\n",
    "def fit_skipgram(dim, batch_size=64, epochs=20):\n",
    "    skipgram = build_skipgram(dim)\n",
    "    history = skipgram_50.fit(x, y, batch_size=batch_size, epochs=epochs)\n",
    "    save_embedding(\"embeddingSkipgram/{}.npy\".format(dim), skipgram)\n",
    "    save_history(\"embeddingSkipgram/{}.json\".format(dim), history)\n",
    "    plot_history(history, title=\"Skipgram with {}-dim embedding\".format(dim))\n",
    "  \n",
    "fit_skipgram(50, batch_size=64, epochs=15)\n",
    "fit_skipgram(100, batch_size=64, epochs=15)\n",
    "fit_skipgram(150, batch_size=64, epochs=15)"
   ]
  },
  {
   "cell_type": "code",
   "execution_count": 38,
   "metadata": {},
   "outputs": [
    {
     "data": {
      "image/png": "[encoded data removed]",
      "text/plain": [
       "<Figure size 432x288 with 1 Axes>"
      ]
     },
     "metadata": {
      "needs_background": "light"
     },
     "output_type": "display_data"
    }
   ],
   "source": [
    "plot_history(history, title='test')"
   ]
  },
  {
   "cell_type": "code",
   "execution_count": 15,
   "metadata": {},
   "outputs": [
    {
     "name": "stdout",
     "output_type": "stream",
     "text": [
      "Train on 94556 samples\n",
      "Epoch 1/2\n",
      "94556/94556 [==============================] - 4s 38us/sample - loss: 6.1116\n",
      "Epoch 2/2\n",
      "94556/94556 [==============================] - 3s 36us/sample - loss: 5.7631\n"
     ]
    }
   ],
   "source": [
    "skipgram_50 = build_skipgram(50)\n",
    "hist_SG_50 = skipgram_50.fit(x, y, batch_size=bs, epochs=2)"
   ]
  },
  {
   "cell_type": "code",
   "execution_count": 22,
   "metadata": {},
   "outputs": [],
   "source": [
    "with open(\"test.json\", 'w') as f:\n",
    "    json.dump(hist_SG_50.history, f)\n",
    "\n"
   ]
  },
  {
   "cell_type": "code",
   "execution_count": 17,
   "metadata": {},
   "outputs": [
    {
     "data": {
      "text/plain": [
       "{'loss': [6.111622221049603, 5.7630591651520815]}"
      ]
     },
     "execution_count": 17,
     "metadata": {},
     "output_type": "execute_result"
    }
   ],
   "source": []
  },
  {
   "cell_type": "markdown",
   "metadata": {
    "colab_type": "text",
    "id": "yxb3ulOlD1Z2"
   },
   "source": [
    "<b>HINT</b>: To increase training speed of your model, you can use the free available GPU power in Google Colab. Go to `Edit` --> `Notebook Settings` --> select `GPU` under `hardware accelerator`."
   ]
  },
  {
   "cell_type": "code",
   "execution_count": 12,
   "metadata": {
    "colab": {
     "base_uri": "https://localhost:8080/",
     "height": 340
    },
    "colab_type": "code",
    "executionInfo": {
     "elapsed": 144525,
     "status": "ok",
     "timestamp": 1589281183271,
     "user": {
      "displayName": "Lars Schilders",
      "photoUrl": "",
      "userId": "04132714612324641452"
     },
     "user_tz": -120
    },
    "id": "a9eg0xPoDP9B",
    "outputId": "83972df0-8bf3-459c-c7f5-33bc440368bd"
   },
   "outputs": [
    {
     "name": "stdout",
     "output_type": "stream",
     "text": [
      "Train on 94556 samples\n",
      "Epoch 1/30\n",
      "44224/94556 [=============>................] - ETA: 2s - loss: 6.3257"
     ]
    },
    {
     "ename": "KeyboardInterrupt",
     "evalue": "",
     "output_type": "error",
     "traceback": [
      "\u001b[0;31m---------------------------------------------------------------------------\u001b[0m",
      "\u001b[0;31mKeyboardInterrupt\u001b[0m                         Traceback (most recent call last)",
      "\u001b[0;32m<ipython-input-12-9efd67c0297d>\u001b[0m in \u001b[0;36m<module>\u001b[0;34m\u001b[0m\n\u001b[1;32m      4\u001b[0m \u001b[0;34m\u001b[0m\u001b[0m\n\u001b[1;32m      5\u001b[0m \u001b[0mskipgram_50\u001b[0m \u001b[0;34m=\u001b[0m \u001b[0mbuild_skipgram\u001b[0m\u001b[0;34m(\u001b[0m\u001b[0;36m50\u001b[0m\u001b[0;34m)\u001b[0m\u001b[0;34m\u001b[0m\u001b[0;34m\u001b[0m\u001b[0m\n\u001b[0;32m----> 6\u001b[0;31m \u001b[0mhist_SG_50\u001b[0m \u001b[0;34m=\u001b[0m \u001b[0mskipgram_50\u001b[0m\u001b[0;34m.\u001b[0m\u001b[0mfit\u001b[0m\u001b[0;34m(\u001b[0m\u001b[0mx\u001b[0m\u001b[0;34m,\u001b[0m \u001b[0my\u001b[0m\u001b[0;34m,\u001b[0m \u001b[0mbatch_size\u001b[0m\u001b[0;34m=\u001b[0m\u001b[0mbs\u001b[0m\u001b[0;34m,\u001b[0m \u001b[0mepochs\u001b[0m\u001b[0;34m=\u001b[0m\u001b[0mepochs\u001b[0m\u001b[0;34m)\u001b[0m\u001b[0;34m\u001b[0m\u001b[0;34m\u001b[0m\u001b[0m\n\u001b[0m\u001b[1;32m      7\u001b[0m \u001b[0mskipgram_150\u001b[0m \u001b[0;34m=\u001b[0m \u001b[0mbuild_skipgram\u001b[0m\u001b[0;34m(\u001b[0m\u001b[0;36m150\u001b[0m\u001b[0;34m)\u001b[0m\u001b[0;34m\u001b[0m\u001b[0;34m\u001b[0m\u001b[0m\n\u001b[1;32m      8\u001b[0m \u001b[0mhist_SG_150\u001b[0m \u001b[0;34m=\u001b[0m \u001b[0mskipgram_150\u001b[0m\u001b[0;34m.\u001b[0m\u001b[0mfit\u001b[0m\u001b[0;34m(\u001b[0m\u001b[0mx\u001b[0m\u001b[0;34m,\u001b[0m \u001b[0my\u001b[0m\u001b[0;34m,\u001b[0m \u001b[0mbatch_size\u001b[0m\u001b[0;34m=\u001b[0m\u001b[0mbs\u001b[0m\u001b[0;34m,\u001b[0m \u001b[0mepochs\u001b[0m\u001b[0;34m=\u001b[0m\u001b[0mepochs\u001b[0m\u001b[0;34m)\u001b[0m\u001b[0;34m\u001b[0m\u001b[0;34m\u001b[0m\u001b[0m\n",
      "\u001b[0;32m~/anaconda3/envs/webret/lib/python3.7/site-packages/tensorflow_core/python/keras/engine/training.py\u001b[0m in \u001b[0;36mfit\u001b[0;34m(self, x, y, batch_size, epochs, verbose, callbacks, validation_split, validation_data, shuffle, class_weight, sample_weight, initial_epoch, steps_per_epoch, validation_steps, validation_freq, max_queue_size, workers, use_multiprocessing, **kwargs)\u001b[0m\n\u001b[1;32m    817\u001b[0m         \u001b[0mmax_queue_size\u001b[0m\u001b[0;34m=\u001b[0m\u001b[0mmax_queue_size\u001b[0m\u001b[0;34m,\u001b[0m\u001b[0;34m\u001b[0m\u001b[0;34m\u001b[0m\u001b[0m\n\u001b[1;32m    818\u001b[0m         \u001b[0mworkers\u001b[0m\u001b[0;34m=\u001b[0m\u001b[0mworkers\u001b[0m\u001b[0;34m,\u001b[0m\u001b[0;34m\u001b[0m\u001b[0;34m\u001b[0m\u001b[0m\n\u001b[0;32m--> 819\u001b[0;31m         use_multiprocessing=use_multiprocessing)\n\u001b[0m\u001b[1;32m    820\u001b[0m \u001b[0;34m\u001b[0m\u001b[0m\n\u001b[1;32m    821\u001b[0m   def evaluate(self,\n",
      "\u001b[0;32m~/anaconda3/envs/webret/lib/python3.7/site-packages/tensorflow_core/python/keras/engine/training_v2.py\u001b[0m in \u001b[0;36mfit\u001b[0;34m(self, model, x, y, batch_size, epochs, verbose, callbacks, validation_split, validation_data, shuffle, class_weight, sample_weight, initial_epoch, steps_per_epoch, validation_steps, validation_freq, max_queue_size, workers, use_multiprocessing, **kwargs)\u001b[0m\n\u001b[1;32m    340\u001b[0m                 \u001b[0mmode\u001b[0m\u001b[0;34m=\u001b[0m\u001b[0mModeKeys\u001b[0m\u001b[0;34m.\u001b[0m\u001b[0mTRAIN\u001b[0m\u001b[0;34m,\u001b[0m\u001b[0;34m\u001b[0m\u001b[0;34m\u001b[0m\u001b[0m\n\u001b[1;32m    341\u001b[0m                 \u001b[0mtraining_context\u001b[0m\u001b[0;34m=\u001b[0m\u001b[0mtraining_context\u001b[0m\u001b[0;34m,\u001b[0m\u001b[0;34m\u001b[0m\u001b[0;34m\u001b[0m\u001b[0m\n\u001b[0;32m--> 342\u001b[0;31m                 total_epochs=epochs)\n\u001b[0m\u001b[1;32m    343\u001b[0m             \u001b[0mcbks\u001b[0m\u001b[0;34m.\u001b[0m\u001b[0mmake_logs\u001b[0m\u001b[0;34m(\u001b[0m\u001b[0mmodel\u001b[0m\u001b[0;34m,\u001b[0m \u001b[0mepoch_logs\u001b[0m\u001b[0;34m,\u001b[0m \u001b[0mtraining_result\u001b[0m\u001b[0;34m,\u001b[0m \u001b[0mModeKeys\u001b[0m\u001b[0;34m.\u001b[0m\u001b[0mTRAIN\u001b[0m\u001b[0;34m)\u001b[0m\u001b[0;34m\u001b[0m\u001b[0;34m\u001b[0m\u001b[0m\n\u001b[1;32m    344\u001b[0m \u001b[0;34m\u001b[0m\u001b[0m\n",
      "\u001b[0;32m~/anaconda3/envs/webret/lib/python3.7/site-packages/tensorflow_core/python/keras/engine/training_v2.py\u001b[0m in \u001b[0;36mrun_one_epoch\u001b[0;34m(model, iterator, execution_function, dataset_size, batch_size, strategy, steps_per_epoch, num_samples, mode, training_context, total_epochs)\u001b[0m\n\u001b[1;32m    126\u001b[0m         step=step, mode=mode, size=current_batch_size) as batch_logs:\n\u001b[1;32m    127\u001b[0m       \u001b[0;32mtry\u001b[0m\u001b[0;34m:\u001b[0m\u001b[0;34m\u001b[0m\u001b[0;34m\u001b[0m\u001b[0m\n\u001b[0;32m--> 128\u001b[0;31m         \u001b[0mbatch_outs\u001b[0m \u001b[0;34m=\u001b[0m \u001b[0mexecution_function\u001b[0m\u001b[0;34m(\u001b[0m\u001b[0miterator\u001b[0m\u001b[0;34m)\u001b[0m\u001b[0;34m\u001b[0m\u001b[0;34m\u001b[0m\u001b[0m\n\u001b[0m\u001b[1;32m    129\u001b[0m       \u001b[0;32mexcept\u001b[0m \u001b[0;34m(\u001b[0m\u001b[0mStopIteration\u001b[0m\u001b[0;34m,\u001b[0m \u001b[0merrors\u001b[0m\u001b[0;34m.\u001b[0m\u001b[0mOutOfRangeError\u001b[0m\u001b[0;34m)\u001b[0m\u001b[0;34m:\u001b[0m\u001b[0;34m\u001b[0m\u001b[0;34m\u001b[0m\u001b[0m\n\u001b[1;32m    130\u001b[0m         \u001b[0;31m# TODO(kaftan): File bug about tf function and errors.OutOfRangeError?\u001b[0m\u001b[0;34m\u001b[0m\u001b[0;34m\u001b[0m\u001b[0;34m\u001b[0m\u001b[0m\n",
      "\u001b[0;32m~/anaconda3/envs/webret/lib/python3.7/site-packages/tensorflow_core/python/keras/engine/training_v2_utils.py\u001b[0m in \u001b[0;36mexecution_function\u001b[0;34m(input_fn)\u001b[0m\n\u001b[1;32m     96\u001b[0m     \u001b[0;31m# `numpy` translates Tensors to values in Eager mode.\u001b[0m\u001b[0;34m\u001b[0m\u001b[0;34m\u001b[0m\u001b[0;34m\u001b[0m\u001b[0m\n\u001b[1;32m     97\u001b[0m     return nest.map_structure(_non_none_constant_value,\n\u001b[0;32m---> 98\u001b[0;31m                               distributed_function(input_fn))\n\u001b[0m\u001b[1;32m     99\u001b[0m \u001b[0;34m\u001b[0m\u001b[0m\n\u001b[1;32m    100\u001b[0m   \u001b[0;32mreturn\u001b[0m \u001b[0mexecution_function\u001b[0m\u001b[0;34m\u001b[0m\u001b[0;34m\u001b[0m\u001b[0m\n",
      "\u001b[0;32m~/anaconda3/envs/webret/lib/python3.7/site-packages/tensorflow_core/python/eager/def_function.py\u001b[0m in \u001b[0;36m__call__\u001b[0;34m(self, *args, **kwds)\u001b[0m\n\u001b[1;32m    566\u001b[0m         \u001b[0mxla_context\u001b[0m\u001b[0;34m.\u001b[0m\u001b[0mExit\u001b[0m\u001b[0;34m(\u001b[0m\u001b[0;34m)\u001b[0m\u001b[0;34m\u001b[0m\u001b[0;34m\u001b[0m\u001b[0m\n\u001b[1;32m    567\u001b[0m     \u001b[0;32melse\u001b[0m\u001b[0;34m:\u001b[0m\u001b[0;34m\u001b[0m\u001b[0;34m\u001b[0m\u001b[0m\n\u001b[0;32m--> 568\u001b[0;31m       \u001b[0mresult\u001b[0m \u001b[0;34m=\u001b[0m \u001b[0mself\u001b[0m\u001b[0;34m.\u001b[0m\u001b[0m_call\u001b[0m\u001b[0;34m(\u001b[0m\u001b[0;34m*\u001b[0m\u001b[0margs\u001b[0m\u001b[0;34m,\u001b[0m \u001b[0;34m**\u001b[0m\u001b[0mkwds\u001b[0m\u001b[0;34m)\u001b[0m\u001b[0;34m\u001b[0m\u001b[0;34m\u001b[0m\u001b[0m\n\u001b[0m\u001b[1;32m    569\u001b[0m \u001b[0;34m\u001b[0m\u001b[0m\n\u001b[1;32m    570\u001b[0m     \u001b[0;32mif\u001b[0m \u001b[0mtracing_count\u001b[0m \u001b[0;34m==\u001b[0m \u001b[0mself\u001b[0m\u001b[0;34m.\u001b[0m\u001b[0m_get_tracing_count\u001b[0m\u001b[0;34m(\u001b[0m\u001b[0;34m)\u001b[0m\u001b[0;34m:\u001b[0m\u001b[0;34m\u001b[0m\u001b[0;34m\u001b[0m\u001b[0m\n",
      "\u001b[0;32m~/anaconda3/envs/webret/lib/python3.7/site-packages/tensorflow_core/python/eager/def_function.py\u001b[0m in \u001b[0;36m_call\u001b[0;34m(self, *args, **kwds)\u001b[0m\n\u001b[1;32m    590\u001b[0m   \u001b[0;32mdef\u001b[0m \u001b[0m_call\u001b[0m\u001b[0;34m(\u001b[0m\u001b[0mself\u001b[0m\u001b[0;34m,\u001b[0m \u001b[0;34m*\u001b[0m\u001b[0margs\u001b[0m\u001b[0;34m,\u001b[0m \u001b[0;34m**\u001b[0m\u001b[0mkwds\u001b[0m\u001b[0;34m)\u001b[0m\u001b[0;34m:\u001b[0m\u001b[0;34m\u001b[0m\u001b[0;34m\u001b[0m\u001b[0m\n\u001b[1;32m    591\u001b[0m     \u001b[0;34m\"\"\"Calls the graph function.\"\"\"\u001b[0m\u001b[0;34m\u001b[0m\u001b[0;34m\u001b[0m\u001b[0m\n\u001b[0;32m--> 592\u001b[0;31m     \u001b[0mself\u001b[0m\u001b[0;34m.\u001b[0m\u001b[0m_lock\u001b[0m\u001b[0;34m.\u001b[0m\u001b[0macquire\u001b[0m\u001b[0;34m(\u001b[0m\u001b[0;34m)\u001b[0m\u001b[0;34m\u001b[0m\u001b[0;34m\u001b[0m\u001b[0m\n\u001b[0m\u001b[1;32m    593\u001b[0m     \u001b[0;32mif\u001b[0m \u001b[0mself\u001b[0m\u001b[0;34m.\u001b[0m\u001b[0m_created_variables\u001b[0m\u001b[0;34m:\u001b[0m\u001b[0;34m\u001b[0m\u001b[0;34m\u001b[0m\u001b[0m\n\u001b[1;32m    594\u001b[0m       \u001b[0;31m# Release the lock early so that multiple threads can perform the call\u001b[0m\u001b[0;34m\u001b[0m\u001b[0;34m\u001b[0m\u001b[0;34m\u001b[0m\u001b[0m\n",
      "\u001b[0;31mKeyboardInterrupt\u001b[0m: "
     ]
    }
   ],
   "source": [
    "# train skipgram model\n",
    "epochs = 30\n",
    "bs = 64\n",
    "\n",
    "skipgram_50 = build_skipgram(50)\n",
    "hist_SG_50 = skipgram_50.fit(x, y, batch_size=bs, epochs=epochs)\n",
    "skipgram_150 = build_skipgram(150)\n",
    "hist_SG_150 = skipgram_150.fit(x, y, batch_size=bs, epochs=epochs)\n",
    "skipgram_300 = build_skipgram(300)\n",
    "hist_SGF_300 = skipgram_300.fit(x, y, batch_size=bs, epochs=epochs)"
   ]
  },
  {
   "cell_type": "code",
   "execution_count": 48,
   "metadata": {
    "colab": {},
    "colab_type": "code",
    "id": "eGEHlkQ4DShO"
   },
   "outputs": [],
   "source": [
    "# save embeddings for vectors of length 50, 150 and 300 using skipgram model\n",
    "\n",
    "np.save(\"embeddingSkipgram/embedding50.npy\", skipgram_50.get_weights()[0])\n",
    "np.save(\"embeddingSkipgram/embedding150.npy\", skipgram_150.get_weights()[0])\n",
    "np.save(\"embeddingSkipgram/embedding300.npy\", skipgram_300.get_weights()[0])"
   ]
  },
  {
   "cell_type": "markdown",
   "metadata": {
    "colab_type": "text",
    "id": "b4z9Lt6pAZEw"
   },
   "source": [
    "## Task 1.2 - CBOW\n",
    "\n",
    "Build word embeddings of length 50, 150 and 300 using CBOW model."
   ]
  },
  {
   "cell_type": "code",
   "execution_count": 17,
   "metadata": {
    "colab": {},
    "colab_type": "code",
    "id": "KMhI_sWFTXDW"
   },
   "outputs": [],
   "source": [
    "# prepare data for CBOW\n",
    "def generate_data_cbow(corpus, window_size, V):\n",
    "    \n",
    "    maxlen = window_size*2\n",
    "    all_in = []\n",
    "    all_out = []\n",
    "    for words in corpus:\n",
    "        L = len(words)\n",
    "        for index, word in enumerate(words):\n",
    "            p = index - window_size\n",
    "            n = index + window_size + 1\n",
    "                    \n",
    "            in_words = []\n",
    "            labels = []\n",
    "            \n",
    "            context = [words[i] for i in range(p, n) if ((i != index) and (0 <= i < L))]\n",
    "            context = (maxlen - len(context)) * [0] + context\n",
    "            \n",
    "            all_in.append(context)\n",
    "\n",
    "            all_out.append(to_categorical(word, V))\n",
    "                                      \n",
    "    return (np.array(all_in),np.array(all_out))\n",
    "\n",
    "# create training data\n",
    "x_cbow, y_cbow = generate_data_cbow(corpus,window_size, V)"
   ]
  },
  {
   "cell_type": "code",
   "execution_count": 18,
   "metadata": {
    "colab": {},
    "colab_type": "code",
    "id": "KMhI_sWFTXDW"
   },
   "outputs": [],
   "source": [
    "# create CBOW architecture\n",
    "def build_cbow(dim):\n",
    "    cbow = Sequential()\n",
    "    cbow.add(Embedding(input_dim=V, output_dim=dim, embeddings_initializer='glorot_uniform', input_length=window_size*2))\n",
    "    cbow.add(Lambda(lambda x: K.mean(x, axis=1), output_shape=(dim,)))\n",
    "    cbow.add(Dense(V, kernel_initializer='glorot_uniform', activation='softmax'))\n",
    "    cbow.compile(loss='categorical_crossentropy', optimizer=keras.optimizers.SGD(learning_rate=2))\n",
    "    return cbow"
   ]
  },
  {
   "cell_type": "code",
   "execution_count": 19,
   "metadata": {
    "colab": {},
    "colab_type": "code",
    "collapsed": true,
    "id": "KMhI_sWFTXDW",
    "jupyter": {
     "outputs_hidden": true
    }
   },
   "outputs": [
    {
     "name": "stdout",
     "output_type": "stream",
     "text": [
      "Train on 27165 samples\n",
      "Epoch 1/50\n",
      "27165/27165 [==============================] - 1s 46us/sample - loss: 7.64060s - loss: 7.\n",
      "Epoch 2/50\n",
      "27165/27165 [==============================] - 1s 38us/sample - loss: 7.2614\n",
      "Epoch 3/50\n",
      "27165/27165 [==============================] - 1s 38us/sample - loss: 6.98900s - loss: \n",
      "Epoch 4/50\n",
      "27165/27165 [==============================] - 1s 38us/sample - loss: 6.8040\n",
      "Epoch 5/50\n",
      "27165/27165 [==============================] - 1s 39us/sample - loss: 6.6721\n",
      "Epoch 6/50\n",
      "27165/27165 [==============================] - 1s 39us/sample - loss: 6.5789\n",
      "Epoch 7/50\n",
      "27165/27165 [==============================] - 1s 39us/sample - loss: 6.5095\n",
      "Epoch 8/50\n",
      "27165/27165 [==============================] - 1s 39us/sample - loss: 6.4545\n",
      "Epoch 9/50\n",
      "27165/27165 [==============================] - 1s 39us/sample - loss: 6.40810s - lo\n",
      "Epoch 10/50\n",
      "27165/27165 [==============================] - 1s 39us/sample - loss: 6.36700\n",
      "Epoch 11/50\n",
      "27165/27165 [==============================] - 1s 40us/sample - loss: 6.3294\n",
      "Epoch 12/50\n",
      "27165/27165 [==============================] - 1s 40us/sample - loss: 6.2942\n",
      "Epoch 13/50\n",
      "27165/27165 [==============================] - 1s 39us/sample - loss: 6.2606\n",
      "Epoch 14/50\n",
      "27165/27165 [==============================] - 1s 39us/sample - loss: 6.2282\n",
      "Epoch 15/50\n",
      "27165/27165 [==============================] - 1s 39us/sample - loss: 6.1971\n",
      "Epoch 16/50\n",
      "27165/27165 [==============================] - 1s 40us/sample - loss: 6.1670\n",
      "Epoch 17/50\n",
      "27165/27165 [==============================] - 1s 39us/sample - loss: 6.1384\n",
      "Epoch 18/50\n",
      "27165/27165 [==============================] - 1s 43us/sample - loss: 6.1114\n",
      "Epoch 19/50\n",
      "27165/27165 [==============================] - 1s 39us/sample - loss: 6.08620s - loss: \n",
      "Epoch 20/50\n",
      "27165/27165 [==============================] - 1s 38us/sample - loss: 6.0632\n",
      "Epoch 21/50\n",
      "27165/27165 [==============================] - 1s 39us/sample - loss: 6.0420\n",
      "Epoch 22/50\n",
      "27165/27165 [==============================] - 1s 39us/sample - loss: 6.0225\n",
      "Epoch 23/50\n",
      "27165/27165 [==============================] - 1s 40us/sample - loss: 6.0046\n",
      "Epoch 24/50\n",
      "27165/27165 [==============================] - 1s 39us/sample - loss: 5.9880\n",
      "Epoch 25/50\n",
      "27165/27165 [==============================] - 1s 39us/sample - loss: 5.9725\n",
      "Epoch 26/50\n",
      "27165/27165 [==============================] - 1s 39us/sample - loss: 5.9578\n",
      "Epoch 27/50\n",
      "27165/27165 [==============================] - 1s 38us/sample - loss: 5.9439\n",
      "Epoch 28/50\n",
      "27165/27165 [==============================] - 1s 38us/sample - loss: 5.9306\n",
      "Epoch 29/50\n",
      "27165/27165 [==============================] - 1s 39us/sample - loss: 5.91760s \n",
      "Epoch 30/50\n",
      "27165/27165 [==============================] - 1s 39us/sample - loss: 5.90520s - loss: 5.906\n",
      "Epoch 31/50\n",
      "27165/27165 [==============================] - 1s 40us/sample - loss: 5.8930\n",
      "Epoch 32/50\n",
      "27165/27165 [==============================] - 1s 40us/sample - loss: 5.8809\n",
      "Epoch 33/50\n",
      "27165/27165 [==============================] - 1s 41us/sample - loss: 5.8690\n",
      "Epoch 34/50\n",
      "27165/27165 [==============================] - 1s 40us/sample - loss: 5.8572\n",
      "Epoch 35/50\n",
      "27165/27165 [==============================] - 1s 42us/sample - loss: 5.84540s - loss\n",
      "Epoch 36/50\n",
      "27165/27165 [==============================] - 1s 40us/sample - loss: 5.8335\n",
      "Epoch 37/50\n",
      "27165/27165 [==============================] - 1s 39us/sample - loss: 5.8217\n",
      "Epoch 38/50\n",
      "27165/27165 [==============================] - 1s 38us/sample - loss: 5.8098\n",
      "Epoch 39/50\n",
      "27165/27165 [==============================] - 1s 40us/sample - loss: 5.7979\n",
      "Epoch 40/50\n",
      "27165/27165 [==============================] - 1s 39us/sample - loss: 5.7860\n",
      "Epoch 41/50\n",
      "27165/27165 [==============================] - 1s 38us/sample - loss: 5.7740\n",
      "Epoch 42/50\n",
      "27165/27165 [==============================] - 1s 39us/sample - loss: 5.7622\n",
      "Epoch 43/50\n",
      "27165/27165 [==============================] - 1s 38us/sample - loss: 5.75020s - loss: 5\n",
      "Epoch 44/50\n",
      "27165/27165 [==============================] - 1s 40us/sample - loss: 5.7382\n",
      "Epoch 45/50\n",
      "27165/27165 [==============================] - 1s 40us/sample - loss: 5.7266\n",
      "Epoch 46/50\n",
      "27165/27165 [==============================] - 1s 40us/sample - loss: 5.7148\n",
      "Epoch 47/50\n",
      "27165/27165 [==============================] - 1s 39us/sample - loss: 5.7031\n",
      "Epoch 48/50\n",
      "27165/27165 [==============================] - 1s 38us/sample - loss: 5.6913\n",
      "Epoch 49/50\n",
      "27165/27165 [==============================] - 1s 40us/sample - loss: 5.6798\n",
      "Epoch 50/50\n",
      "27165/27165 [==============================] - 1s 39us/sample - loss: 5.6683\n",
      "Train on 27165 samples\n",
      "Epoch 1/50\n",
      "27165/27165 [==============================] - 2s 60us/sample - loss: 7.6397\n",
      "Epoch 2/50\n",
      "27165/27165 [==============================] - 1s 54us/sample - loss: 7.2582\n",
      "Epoch 3/50\n",
      "27165/27165 [==============================] - 1s 55us/sample - loss: 6.9842\n",
      "Epoch 4/50\n",
      "27165/27165 [==============================] - 1s 54us/sample - loss: 6.79590s\n",
      "Epoch 5/50\n",
      "27165/27165 [==============================] - 1s 53us/sample - loss: 6.6612\n",
      "Epoch 6/50\n",
      "27165/27165 [==============================] - 1s 54us/sample - loss: 6.5651\n",
      "Epoch 7/50\n",
      "27165/27165 [==============================] - 2s 55us/sample - loss: 6.4930\n",
      "Epoch 8/50\n",
      "27165/27165 [==============================] - 2s 57us/sample - loss: 6.4346\n",
      "Epoch 9/50\n",
      "27165/27165 [==============================] - 2s 55us/sample - loss: 6.3840\n",
      "Epoch 10/50\n",
      "27165/27165 [==============================] - 2s 56us/sample - loss: 6.3379\n",
      "Epoch 11/50\n",
      "27165/27165 [==============================] - 2s 56us/sample - loss: 6.2950\n",
      "Epoch 12/50\n",
      "27165/27165 [==============================] - 2s 56us/sample - loss: 6.2548\n",
      "Epoch 13/50\n",
      "27165/27165 [==============================] - 2s 55us/sample - loss: 6.2171\n",
      "Epoch 14/50\n",
      "27165/27165 [==============================] - 2s 57us/sample - loss: 6.1816\n",
      "Epoch 15/50\n",
      "27165/27165 [==============================] - ETA: 0s - loss: 6.146 - 2s 57us/sample - loss: 6.1487\n",
      "Epoch 16/50\n",
      "27165/27165 [==============================] - 2s 58us/sample - loss: 6.1182\n",
      "Epoch 17/50\n",
      "27165/27165 [==============================] - 2s 57us/sample - loss: 6.0903\n",
      "Epoch 18/50\n",
      "27165/27165 [==============================] - 2s 59us/sample - loss: 6.0647\n",
      "Epoch 19/50\n",
      "27165/27165 [==============================] - 2s 58us/sample - loss: 6.0414\n",
      "Epoch 20/50\n",
      "27165/27165 [==============================] - 2s 58us/sample - loss: 6.0200\n",
      "Epoch 21/50\n",
      "27165/27165 [==============================] - 2s 59us/sample - loss: 6.0002\n",
      "Epoch 22/50\n",
      "27165/27165 [==============================] - 2s 62us/sample - loss: 5.9817\n",
      "Epoch 23/50\n",
      "27165/27165 [==============================] - 2s 60us/sample - loss: 5.9641\n",
      "Epoch 24/50\n",
      "27165/27165 [==============================] - 2s 60us/sample - loss: 5.9475\n",
      "Epoch 25/50\n",
      "27165/27165 [==============================] - 2s 64us/sample - loss: 5.9314\n",
      "Epoch 26/50\n",
      "27165/27165 [==============================] - 2s 61us/sample - loss: 5.9159\n",
      "Epoch 27/50\n",
      "27165/27165 [==============================] - 2s 60us/sample - loss: 5.9007\n",
      "Epoch 28/50\n",
      "27165/27165 [==============================] - 2s 60us/sample - loss: 5.8858\n",
      "Epoch 29/50\n",
      "27165/27165 [==============================] - 2s 60us/sample - loss: 5.8711\n",
      "Epoch 30/50\n",
      "27165/27165 [==============================] - 2s 61us/sample - loss: 5.8567\n",
      "Epoch 31/50\n",
      "27165/27165 [==============================] - 2s 60us/sample - loss: 5.8420\n",
      "Epoch 32/50\n",
      "27165/27165 [==============================] - 2s 58us/sample - loss: 5.8277\n",
      "Epoch 33/50\n",
      "27165/27165 [==============================] - 2s 61us/sample - loss: 5.8133\n",
      "Epoch 34/50\n",
      "27165/27165 [==============================] - 2s 64us/sample - loss: 5.7990\n",
      "Epoch 35/50\n",
      "27165/27165 [==============================] - 2s 65us/sample - loss: 5.7847\n",
      "Epoch 36/50\n",
      "27165/27165 [==============================] - 2s 62us/sample - loss: 5.7704\n",
      "Epoch 37/50\n",
      "27165/27165 [==============================] - 2s 63us/sample - loss: 5.7564\n",
      "Epoch 38/50\n",
      "27165/27165 [==============================] - 2s 63us/sample - loss: 5.7424\n",
      "Epoch 39/50\n",
      "27165/27165 [==============================] - 2s 62us/sample - loss: 5.7284\n",
      "Epoch 40/50\n",
      "27165/27165 [==============================] - 2s 63us/sample - loss: 5.7148\n",
      "Epoch 41/50\n",
      "27165/27165 [==============================] - 2s 63us/sample - loss: 5.7009\n",
      "Epoch 42/50\n",
      "27165/27165 [==============================] - 2s 64us/sample - loss: 5.6875\n",
      "Epoch 43/50\n",
      "27165/27165 [==============================] - 2s 62us/sample - loss: 5.6743\n",
      "Epoch 44/50\n",
      "27165/27165 [==============================] - 2s 65us/sample - loss: 5.6612\n",
      "Epoch 45/50\n",
      "27165/27165 [==============================] - 2s 66us/sample - loss: 5.6480\n",
      "Epoch 46/50\n",
      "27165/27165 [==============================] - 2s 62us/sample - loss: 5.6354\n",
      "Epoch 47/50\n",
      "27165/27165 [==============================] - 2s 65us/sample - loss: 5.6226\n",
      "Epoch 48/50\n",
      "27165/27165 [==============================] - 2s 66us/sample - loss: 5.6102\n",
      "Epoch 49/50\n",
      "27165/27165 [==============================] - 2s 63us/sample - loss: 5.5978\n",
      "Epoch 50/50\n",
      "27165/27165 [==============================] - 2s 64us/sample - loss: 5.5856\n",
      "Train on 27165 samples\n",
      "Epoch 1/50\n",
      "27165/27165 [==============================] - 4s 135us/sample - loss: 7.6385\n",
      "Epoch 2/50\n",
      "27165/27165 [==============================] - 4s 137us/sample - loss: 7.2546\n",
      "Epoch 3/50\n",
      "27165/27165 [==============================] - 4s 133us/sample - loss: 6.9778\n",
      "Epoch 4/50\n",
      "27165/27165 [==============================] - 3s 128us/sample - loss: 6.7864\n",
      "Epoch 5/50\n",
      "27165/27165 [==============================] - 4s 130us/sample - loss: 6.6489\n",
      "Epoch 6/50\n",
      "27165/27165 [==============================] - 4s 140us/sample - loss: 6.5508\n",
      "Epoch 7/50\n",
      "27165/27165 [==============================] - 4s 143us/sample - loss: 6.4764\n",
      "Epoch 8/50\n",
      "27165/27165 [==============================] - 4s 131us/sample - loss: 6.4149\n",
      "Epoch 9/50\n",
      "27165/27165 [==============================] - 4s 135us/sample - loss: 6.3601\n",
      "Epoch 10/50\n",
      "27165/27165 [==============================] - 4s 133us/sample - loss: 6.3098\n",
      "Epoch 11/50\n",
      "27165/27165 [==============================] - 4s 131us/sample - loss: 6.2633\n",
      "Epoch 12/50\n",
      "27165/27165 [==============================] - 3s 128us/sample - loss: 6.2205\n",
      "Epoch 13/50\n",
      "27165/27165 [==============================] - 4s 130us/sample - loss: 6.1812\n",
      "Epoch 14/50\n",
      "27165/27165 [==============================] - 3s 127us/sample - loss: 6.1452\n",
      "Epoch 15/50\n",
      "27165/27165 [==============================] - 4s 132us/sample - loss: 6.1123\n",
      "Epoch 16/50\n",
      "27165/27165 [==============================] - 4s 133us/sample - loss: 6.0825\n",
      "Epoch 17/50\n",
      "27165/27165 [==============================] - 4s 130us/sample - loss: 6.0554\n",
      "Epoch 18/50\n",
      "27165/27165 [==============================] - 4s 131us/sample - loss: 6.0305\n",
      "Epoch 19/50\n",
      "27165/27165 [==============================] - 4s 133us/sample - loss: 6.0077\n",
      "Epoch 20/50\n",
      "27165/27165 [==============================] - 4s 135us/sample - loss: 5.9862\n",
      "Epoch 21/50\n",
      "27165/27165 [==============================] - 4s 130us/sample - loss: 5.9660\n",
      "Epoch 22/50\n",
      "27165/27165 [==============================] - 4s 131us/sample - loss: 5.9467\n",
      "Epoch 23/50\n",
      "27165/27165 [==============================] - 4s 134us/sample - loss: 5.9282\n",
      "Epoch 24/50\n",
      "27165/27165 [==============================] - 4s 135us/sample - loss: 5.9103\n",
      "Epoch 25/50\n",
      "27165/27165 [==============================] - 4s 134us/sample - loss: 5.8929\n",
      "Epoch 26/50\n",
      "27165/27165 [==============================] - 4s 134us/sample - loss: 5.8758\n",
      "Epoch 27/50\n",
      "27165/27165 [==============================] - 4s 134us/sample - loss: 5.8589\n",
      "Epoch 28/50\n",
      "27165/27165 [==============================] - 4s 132us/sample - loss: 5.8424\n",
      "Epoch 29/50\n",
      "27165/27165 [==============================] - 4s 133us/sample - loss: 5.8259\n",
      "Epoch 30/50\n",
      "27165/27165 [==============================] - 4s 144us/sample - loss: 5.8098\n",
      "Epoch 31/50\n",
      "27165/27165 [==============================] - 4s 145us/sample - loss: 5.7936\n",
      "Epoch 32/50\n",
      "27165/27165 [==============================] - 4s 142us/sample - loss: 5.7778\n",
      "Epoch 33/50\n",
      "27165/27165 [==============================] - 4s 147us/sample - loss: 5.7622\n",
      "Epoch 34/50\n",
      "27165/27165 [==============================] - 4s 139us/sample - loss: 5.7467\n",
      "Epoch 35/50\n",
      "27165/27165 [==============================] - 4s 136us/sample - loss: 5.7313\n",
      "Epoch 36/50\n",
      "27165/27165 [==============================] - 4s 134us/sample - loss: 5.7162\n",
      "Epoch 37/50\n",
      "27165/27165 [==============================] - 4s 138us/sample - loss: 5.7015\n",
      "Epoch 38/50\n",
      "27165/27165 [==============================] - 4s 140us/sample - loss: 5.6868\n",
      "Epoch 39/50\n",
      "27165/27165 [==============================] - 4s 139us/sample - loss: 5.6724\n",
      "Epoch 40/50\n",
      "27165/27165 [==============================] - 4s 145us/sample - loss: 5.6581\n",
      "Epoch 41/50\n",
      "27165/27165 [==============================] - 4s 145us/sample - loss: 5.6442\n",
      "Epoch 42/50\n",
      "27165/27165 [==============================] - 4s 147us/sample - loss: 5.6304\n",
      "Epoch 43/50\n",
      "27165/27165 [==============================] - 4s 138us/sample - loss: 5.6168\n",
      "Epoch 44/50\n",
      "27165/27165 [==============================] - 4s 139us/sample - loss: 5.6035\n",
      "Epoch 45/50\n",
      "27165/27165 [==============================] - 4s 133us/sample - loss: 5.5902\n",
      "Epoch 46/50\n",
      "27165/27165 [==============================] - 4s 136us/sample - loss: 5.5773\n",
      "Epoch 47/50\n",
      "27165/27165 [==============================] - 4s 140us/sample - loss: 5.5647\n",
      "Epoch 48/50\n",
      "27165/27165 [==============================] - 4s 141us/sample - loss: 5.5520\n",
      "Epoch 49/50\n",
      "27165/27165 [==============================] - 4s 138us/sample - loss: 5.5396\n",
      "Epoch 50/50\n",
      "27165/27165 [==============================] - 4s 137us/sample - loss: 5.5276\n"
     ]
    },
    {
     "data": {
      "text/plain": [
       "<tensorflow.python.keras.callbacks.History at 0x7fe1199d6e50>"
      ]
     },
     "execution_count": 19,
     "metadata": {},
     "output_type": "execute_result"
    }
   ],
   "source": [
    "# train CBOW model\n",
    "epochs = 50\n",
    "bs = 64\n",
    "\n",
    "cbow_50 = build_cbow(50)\n",
    "hist_cbow_50 = cbow_50.fit(x_cbow, y_cbow, batch_size=bs, epochs=epochs)\n",
    "cbow_150 = build_cbow(150)\n",
    "hist_cbow_150 = cbow_150.fit(x_cbow, y_cbow, batch_size=bs, epochs=epochs)\n",
    "cbow_300 = build_cbow(300)\n",
    "hist_cbow_300 = cbow_300.fit(x_cbow, y_cbow, batch_size=bs, epochs=epochs)"
   ]
  },
  {
   "cell_type": "code",
   "execution_count": 21,
   "metadata": {
    "colab": {},
    "colab_type": "code",
    "id": "KMhI_sWFTXDW"
   },
   "outputs": [],
   "source": [
    "# save embeddings for vectors of length 50, 150 and 300 using CBOW model\n",
    "np.save(\"embeddingCBOW/embedding50.npy\", cbow_50.get_weights()[0])\n",
    "np.save(\"embeddingCBOW/embedding150.npy\", cbow_150.get_weights()[0])\n",
    "np.save(\"embeddingCBOW/embedding300.npy\", cbow_300.get_weights()[0])"
   ]
  },
  {
   "cell_type": "markdown",
   "metadata": {
    "colab_type": "text",
    "id": "rr2BAI4nAfnG"
   },
   "source": [
    "## Task 1.3 - Analogy function\n",
    "\n",
    "Implement your own function to perform the analogy task (see [1] for concrete examples). Use the same distance metric as in [1]. Do not use existing libraries for this task such as Gensim. Your function should be able to answer whether an analogy like: \"a king is to a queen as a man is to a woman\" ($e_{king} - e_{queen} + e_{woman} \\approx e_{man}$) is true. \n",
    "\n",
    "In a perfect scenario, we would like that this analogy ( $e_{king} - e_{queen} + e_{woman}$) results in the embedding of the word \"man\". However, it does not always result in exactly the same word embedding. The result of the formula is called the expected or the predicted word embedding. In this context, \"man\" is called the true or the actual word $t$. We want to find the word $p$ in the vocabulary, where the embedding of $p$ ($e_p$) is the closest to the predicted embedding (i.e. result of the formula). Then, we can check if $p$ is the same word as the true word $t$.  \n",
    "\n",
    "You have to answer an analogy function using each embedding for both CBOW and Skipgram model. This means that for each analogy we have 6 outputs. Show the true word (with distance similarity value between predicted embedding and true word embedding, i.e. `sim1`) , the predicted word (with distance similarity value between predicted embedding and the embedding of the word in the vocabulary that is closest to this predicted embedding, i.e. `sim2`) and a boolean answer whether the predicted word **exactly** equals the true word. \n",
    "\n",
    "<b>HINT</b>: to visualize the results of the analogy tasks , you can print them in a table. An example is given below.\n",
    "\n",
    "\n",
    "| Analogy task | True word (sim1)  | Predicted word (sim2) | Embedding | Correct?|\n",
    "|------|------|------|------|------|\n",
    "|  queen is to king as woman is to ?\t | man (sim1) | predictd_word(sim2) | SG_50 | True / False|\n",
    "\n",
    "* Give at least 5 different  examples of analogies.\n",
    "* Compare the performance on the analogy s between the word embeddings and briefly discuss your results."
   ]
  },
  {
   "cell_type": "code",
   "execution_count": 50,
   "metadata": {},
   "outputs": [],
   "source": [
    "skipgram_embedding_50 = np.load('embeddingSkipgram/embedding50.npy')\n",
    "skipgram_embedding_150 = np.load('embeddingSkipgram/embedding150.npy')\n",
    "skipgram_embedding_300 = np.load('embeddingSkipgram/embedding300.npy')\n",
    "\n",
    "cbow_embedding_50 = np.load('embeddingCBOW/embedding50.npy')\n",
    "cbow_embedding_150 = np.load('embeddingCBOW/embedding150.npy')\n",
    "cbow_embedding_300 = np.load('embeddingCBOW/embedding300.npy')"
   ]
  },
  {
   "cell_type": "code",
   "execution_count": 78,
   "metadata": {},
   "outputs": [],
   "source": [
    "emb_dict = {'SG_50': skipgram_embedding_50, 'SG_150': skipgram_embedding_150, 'SG_300': skipgram_embedding_300,\n",
    "           'CBOW_50': cbow_embedding_50, 'CBOW_150': cbow_embedding_150, 'CBOW_300': cbow_embedding_300}"
   ]
  },
  {
   "cell_type": "code",
   "execution_count": 17,
   "metadata": {
    "colab": {},
    "colab_type": "code",
    "id": "R7vMhZ0LitFC"
   },
   "outputs": [],
   "source": [
    "def embed(word, embedding, vocab_size = V, tokenizer=tokenizer):\n",
    "    # get the index of the word from the tokenizer, i.e. convert the string to it's corresponding integer in the vocabulary\n",
    "    int_word = tokenizer.texts_to_sequences([word])[0]\n",
    "    # get the one-hot encoding of the word\n",
    "    bin_word = to_categorical(int_word, V)\n",
    "    return np.dot(bin_word, embedding)"
   ]
  },
  {
   "cell_type": "code",
   "execution_count": 20,
   "metadata": {},
   "outputs": [],
   "source": [
    "from sklearn.metrics.pairwise import cosine_similarity\n",
    "\n",
    "def findAnalogy(prediction, embedding):\n",
    "    \n",
    "    all_word_embeddings = embed(list(tokenizer.word_index.keys()), embedding)\n",
    "    \n",
    "    similarity = cosine_similarity(all_word_embeddings, prediction)\n",
    "\n",
    "    word_idx = similarity.argsort(axis=0)[-2,0]\n",
    "\n",
    "    return list(tokenizer.word_index.keys())[word_idx]\n",
    "\n"
   ]
  },
  {
   "cell_type": "code",
   "execution_count": 63,
   "metadata": {
    "colab": {
     "base_uri": "https://localhost:8080/",
     "height": 34
    },
    "colab_type": "code",
    "executionInfo": {
     "elapsed": 6245,
     "status": "ok",
     "timestamp": 1589281913535,
     "user": {
      "displayName": "Lars Schilders",
      "photoUrl": "",
      "userId": "04132714612324641452"
     },
     "user_tz": -120
    },
    "id": "iloUdkWPkhks",
    "outputId": "3eeb2dee-6cca-485b-a8f5-4b692b4c16be"
   },
   "outputs": [],
   "source": [
    "def analogyOutput(emb_name, relation_1, relation_2):\n",
    "    \n",
    "    emb = emb_dict[emb_name]\n",
    "    \n",
    "    analogy_task = \"{} is to {} as {} is to ?\".format(relation_1[0], relation_1[1], relation_2[0], relation_2[1])\n",
    "    \n",
    "    prediction = embed(relation_1[0], emb) - embed(relation_1[1], emb) + embed(relation_2[0], emb)\n",
    "    \n",
    "    predicted_word = findAnalogy(prediction, emb)\n",
    "    sim2 = cosine_similarity(prediction, embed(predicted_word, emb))[0,0]\n",
    "    \n",
    "    true_word = relation_2[1]\n",
    "    sim1 = cosine_similarity(prediction, embed(true_word, emb))[0,0]\n",
    "    \n",
    "    correct = true_word == predicted_word\n",
    "    \n",
    "    return [analogy_task, true_word, sim1, predicted_word, sim2, emb_name, correct]"
   ]
  },
  {
   "cell_type": "markdown",
   "metadata": {},
   "source": [
    "## Semantic"
   ]
  },
  {
   "cell_type": "code",
   "execution_count": 102,
   "metadata": {},
   "outputs": [
    {
     "data": {
      "text/html": [
       "<div>\n",
       "<style scoped>\n",
       "    .dataframe tbody tr th:only-of-type {\n",
       "        vertical-align: middle;\n",
       "    }\n",
       "\n",
       "    .dataframe tbody tr th {\n",
       "        vertical-align: top;\n",
       "    }\n",
       "\n",
       "    .dataframe thead th {\n",
       "        text-align: right;\n",
       "    }\n",
       "</style>\n",
       "<table border=\"1\" class=\"dataframe\">\n",
       "  <thead>\n",
       "    <tr style=\"text-align: right;\">\n",
       "      <th></th>\n",
       "      <th>Analogy task</th>\n",
       "      <th>True word</th>\n",
       "      <th>sim1</th>\n",
       "      <th>Predicted word</th>\n",
       "      <th>sim2</th>\n",
       "      <th>Embedding</th>\n",
       "      <th>Correct?</th>\n",
       "    </tr>\n",
       "  </thead>\n",
       "  <tbody>\n",
       "    <tr>\n",
       "      <td>0</td>\n",
       "      <td>up is to down as high is to ?</td>\n",
       "      <td>low</td>\n",
       "      <td>0.142158</td>\n",
       "      <td>sleepy</td>\n",
       "      <td>0.497267</td>\n",
       "      <td>SG_50</td>\n",
       "      <td>False</td>\n",
       "    </tr>\n",
       "    <tr>\n",
       "      <td>1</td>\n",
       "      <td>up is to down as high is to ?</td>\n",
       "      <td>low</td>\n",
       "      <td>-0.080373</td>\n",
       "      <td>up</td>\n",
       "      <td>0.459103</td>\n",
       "      <td>SG_150</td>\n",
       "      <td>False</td>\n",
       "    </tr>\n",
       "    <tr>\n",
       "      <td>2</td>\n",
       "      <td>up is to down as high is to ?</td>\n",
       "      <td>low</td>\n",
       "      <td>-0.039956</td>\n",
       "      <td>up</td>\n",
       "      <td>0.480250</td>\n",
       "      <td>SG_300</td>\n",
       "      <td>False</td>\n",
       "    </tr>\n",
       "    <tr>\n",
       "      <td>3</td>\n",
       "      <td>up is to down as high is to ?</td>\n",
       "      <td>low</td>\n",
       "      <td>0.065749</td>\n",
       "      <td>behind</td>\n",
       "      <td>0.500375</td>\n",
       "      <td>CBOW_50</td>\n",
       "      <td>False</td>\n",
       "    </tr>\n",
       "    <tr>\n",
       "      <td>4</td>\n",
       "      <td>up is to down as high is to ?</td>\n",
       "      <td>low</td>\n",
       "      <td>0.012946</td>\n",
       "      <td>high</td>\n",
       "      <td>0.448162</td>\n",
       "      <td>CBOW_150</td>\n",
       "      <td>False</td>\n",
       "    </tr>\n",
       "    <tr>\n",
       "      <td>5</td>\n",
       "      <td>up is to down as high is to ?</td>\n",
       "      <td>low</td>\n",
       "      <td>-0.002117</td>\n",
       "      <td>high</td>\n",
       "      <td>0.423648</td>\n",
       "      <td>CBOW_300</td>\n",
       "      <td>False</td>\n",
       "    </tr>\n",
       "    <tr>\n",
       "      <td>6</td>\n",
       "      <td>everything is to nothing as always is to ?</td>\n",
       "      <td>never</td>\n",
       "      <td>-0.238600</td>\n",
       "      <td>from</td>\n",
       "      <td>0.533501</td>\n",
       "      <td>SG_50</td>\n",
       "      <td>False</td>\n",
       "    </tr>\n",
       "    <tr>\n",
       "      <td>7</td>\n",
       "      <td>everything is to nothing as always is to ?</td>\n",
       "      <td>never</td>\n",
       "      <td>-0.015764</td>\n",
       "      <td>everything</td>\n",
       "      <td>0.544888</td>\n",
       "      <td>SG_150</td>\n",
       "      <td>False</td>\n",
       "    </tr>\n",
       "    <tr>\n",
       "      <td>8</td>\n",
       "      <td>everything is to nothing as always is to ?</td>\n",
       "      <td>never</td>\n",
       "      <td>-0.040131</td>\n",
       "      <td>everything</td>\n",
       "      <td>0.564488</td>\n",
       "      <td>SG_300</td>\n",
       "      <td>False</td>\n",
       "    </tr>\n",
       "    <tr>\n",
       "      <td>9</td>\n",
       "      <td>everything is to nothing as always is to ?</td>\n",
       "      <td>never</td>\n",
       "      <td>0.157352</td>\n",
       "      <td>everything</td>\n",
       "      <td>0.489072</td>\n",
       "      <td>CBOW_50</td>\n",
       "      <td>False</td>\n",
       "    </tr>\n",
       "    <tr>\n",
       "      <td>10</td>\n",
       "      <td>everything is to nothing as always is to ?</td>\n",
       "      <td>never</td>\n",
       "      <td>0.037045</td>\n",
       "      <td>always</td>\n",
       "      <td>0.419925</td>\n",
       "      <td>CBOW_150</td>\n",
       "      <td>False</td>\n",
       "    </tr>\n",
       "    <tr>\n",
       "      <td>11</td>\n",
       "      <td>everything is to nothing as always is to ?</td>\n",
       "      <td>never</td>\n",
       "      <td>-0.018740</td>\n",
       "      <td>always</td>\n",
       "      <td>0.467155</td>\n",
       "      <td>CBOW_300</td>\n",
       "      <td>False</td>\n",
       "    </tr>\n",
       "    <tr>\n",
       "      <td>12</td>\n",
       "      <td>king is to man as queen is to ?</td>\n",
       "      <td>woman</td>\n",
       "      <td>-0.147854</td>\n",
       "      <td>king</td>\n",
       "      <td>0.901518</td>\n",
       "      <td>SG_50</td>\n",
       "      <td>False</td>\n",
       "    </tr>\n",
       "    <tr>\n",
       "      <td>13</td>\n",
       "      <td>king is to man as queen is to ?</td>\n",
       "      <td>woman</td>\n",
       "      <td>-0.102285</td>\n",
       "      <td>king</td>\n",
       "      <td>0.612152</td>\n",
       "      <td>SG_150</td>\n",
       "      <td>False</td>\n",
       "    </tr>\n",
       "    <tr>\n",
       "      <td>14</td>\n",
       "      <td>king is to man as queen is to ?</td>\n",
       "      <td>woman</td>\n",
       "      <td>-0.140928</td>\n",
       "      <td>king</td>\n",
       "      <td>0.576836</td>\n",
       "      <td>SG_300</td>\n",
       "      <td>False</td>\n",
       "    </tr>\n",
       "    <tr>\n",
       "      <td>15</td>\n",
       "      <td>king is to man as queen is to ?</td>\n",
       "      <td>woman</td>\n",
       "      <td>-0.031550</td>\n",
       "      <td>king</td>\n",
       "      <td>0.738240</td>\n",
       "      <td>CBOW_50</td>\n",
       "      <td>False</td>\n",
       "    </tr>\n",
       "    <tr>\n",
       "      <td>16</td>\n",
       "      <td>king is to man as queen is to ?</td>\n",
       "      <td>woman</td>\n",
       "      <td>-0.038164</td>\n",
       "      <td>king</td>\n",
       "      <td>0.711501</td>\n",
       "      <td>CBOW_150</td>\n",
       "      <td>False</td>\n",
       "    </tr>\n",
       "    <tr>\n",
       "      <td>17</td>\n",
       "      <td>king is to man as queen is to ?</td>\n",
       "      <td>woman</td>\n",
       "      <td>-0.050481</td>\n",
       "      <td>king</td>\n",
       "      <td>0.710403</td>\n",
       "      <td>CBOW_300</td>\n",
       "      <td>False</td>\n",
       "    </tr>\n",
       "  </tbody>\n",
       "</table>\n",
       "</div>"
      ],
      "text/plain": [
       "                                  Analogy task True word      sim1  \\\n",
       "0                up is to down as high is to ?       low  0.142158   \n",
       "1                up is to down as high is to ?       low -0.080373   \n",
       "2                up is to down as high is to ?       low -0.039956   \n",
       "3                up is to down as high is to ?       low  0.065749   \n",
       "4                up is to down as high is to ?       low  0.012946   \n",
       "5                up is to down as high is to ?       low -0.002117   \n",
       "6   everything is to nothing as always is to ?     never -0.238600   \n",
       "7   everything is to nothing as always is to ?     never -0.015764   \n",
       "8   everything is to nothing as always is to ?     never -0.040131   \n",
       "9   everything is to nothing as always is to ?     never  0.157352   \n",
       "10  everything is to nothing as always is to ?     never  0.037045   \n",
       "11  everything is to nothing as always is to ?     never -0.018740   \n",
       "12             king is to man as queen is to ?     woman -0.147854   \n",
       "13             king is to man as queen is to ?     woman -0.102285   \n",
       "14             king is to man as queen is to ?     woman -0.140928   \n",
       "15             king is to man as queen is to ?     woman -0.031550   \n",
       "16             king is to man as queen is to ?     woman -0.038164   \n",
       "17             king is to man as queen is to ?     woman -0.050481   \n",
       "\n",
       "   Predicted word      sim2 Embedding Correct?  \n",
       "0          sleepy  0.497267     SG_50    False  \n",
       "1              up  0.459103    SG_150    False  \n",
       "2              up  0.480250    SG_300    False  \n",
       "3          behind  0.500375   CBOW_50    False  \n",
       "4            high  0.448162  CBOW_150    False  \n",
       "5            high  0.423648  CBOW_300    False  \n",
       "6            from  0.533501     SG_50    False  \n",
       "7      everything  0.544888    SG_150    False  \n",
       "8      everything  0.564488    SG_300    False  \n",
       "9      everything  0.489072   CBOW_50    False  \n",
       "10         always  0.419925  CBOW_150    False  \n",
       "11         always  0.467155  CBOW_300    False  \n",
       "12           king  0.901518     SG_50    False  \n",
       "13           king  0.612152    SG_150    False  \n",
       "14           king  0.576836    SG_300    False  \n",
       "15           king  0.738240   CBOW_50    False  \n",
       "16           king  0.711501  CBOW_150    False  \n",
       "17           king  0.710403  CBOW_300    False  "
      ]
     },
     "execution_count": 102,
     "metadata": {},
     "output_type": "execute_result"
    }
   ],
   "source": [
    "df = pd.DataFrame(columns = ['Analogy task', 'True word', 'sim1', 'Predicted word' ,'sim2', 'Embedding', 'Correct?'])\n",
    "\n",
    "firstRelations = [[\"up\", \"down\"], [\"everything\",\"nothing\"], [\"king\", \"man\"]]\n",
    "secondRelations = [[\"high\", \"low\"], [\"always\", \"never\"], [\"queen\", \"woman\"]]\n",
    "\n",
    "for rel_1, rel_2 in zip(firstRelations, secondRelations):\n",
    "    \n",
    "    for emb_name in emb_dict:\n",
    "\n",
    "        output = analogyOutput(emb_name, rel_1, rel_2)\n",
    "        df = df.append(pd.Series(output, index=df.columns), ignore_index=True)\n",
    "df"
   ]
  },
  {
   "cell_type": "markdown",
   "metadata": {},
   "source": [
    "## Syntactic"
   ]
  },
  {
   "cell_type": "code",
   "execution_count": 101,
   "metadata": {},
   "outputs": [
    {
     "data": {
      "text/html": [
       "<div>\n",
       "<style scoped>\n",
       "    .dataframe tbody tr th:only-of-type {\n",
       "        vertical-align: middle;\n",
       "    }\n",
       "\n",
       "    .dataframe tbody tr th {\n",
       "        vertical-align: top;\n",
       "    }\n",
       "\n",
       "    .dataframe thead th {\n",
       "        text-align: right;\n",
       "    }\n",
       "</style>\n",
       "<table border=\"1\" class=\"dataframe\">\n",
       "  <thead>\n",
       "    <tr style=\"text-align: right;\">\n",
       "      <th></th>\n",
       "      <th>Analogy task</th>\n",
       "      <th>True word</th>\n",
       "      <th>sim1</th>\n",
       "      <th>Predicted word</th>\n",
       "      <th>sim2</th>\n",
       "      <th>Embedding</th>\n",
       "      <th>Correct?</th>\n",
       "    </tr>\n",
       "  </thead>\n",
       "  <tbody>\n",
       "    <tr>\n",
       "      <td>0</td>\n",
       "      <td>he is to him as she is to ?</td>\n",
       "      <td>her</td>\n",
       "      <td>0.260575</td>\n",
       "      <td>he</td>\n",
       "      <td>0.768761</td>\n",
       "      <td>SG_50</td>\n",
       "      <td>False</td>\n",
       "    </tr>\n",
       "    <tr>\n",
       "      <td>1</td>\n",
       "      <td>he is to him as she is to ?</td>\n",
       "      <td>her</td>\n",
       "      <td>-0.024845</td>\n",
       "      <td>she</td>\n",
       "      <td>0.554767</td>\n",
       "      <td>SG_150</td>\n",
       "      <td>False</td>\n",
       "    </tr>\n",
       "    <tr>\n",
       "      <td>2</td>\n",
       "      <td>he is to him as she is to ?</td>\n",
       "      <td>her</td>\n",
       "      <td>-0.028425</td>\n",
       "      <td>she</td>\n",
       "      <td>0.573049</td>\n",
       "      <td>SG_300</td>\n",
       "      <td>False</td>\n",
       "    </tr>\n",
       "    <tr>\n",
       "      <td>3</td>\n",
       "      <td>he is to him as she is to ?</td>\n",
       "      <td>her</td>\n",
       "      <td>-0.115868</td>\n",
       "      <td>he</td>\n",
       "      <td>0.662769</td>\n",
       "      <td>CBOW_50</td>\n",
       "      <td>False</td>\n",
       "    </tr>\n",
       "    <tr>\n",
       "      <td>4</td>\n",
       "      <td>he is to him as she is to ?</td>\n",
       "      <td>her</td>\n",
       "      <td>-0.081710</td>\n",
       "      <td>he</td>\n",
       "      <td>0.668650</td>\n",
       "      <td>CBOW_150</td>\n",
       "      <td>False</td>\n",
       "    </tr>\n",
       "    <tr>\n",
       "      <td>5</td>\n",
       "      <td>he is to him as she is to ?</td>\n",
       "      <td>her</td>\n",
       "      <td>-0.081410</td>\n",
       "      <td>she</td>\n",
       "      <td>0.669001</td>\n",
       "      <td>CBOW_300</td>\n",
       "      <td>False</td>\n",
       "    </tr>\n",
       "    <tr>\n",
       "      <td>6</td>\n",
       "      <td>eye is to eyes as word is to ?</td>\n",
       "      <td>words</td>\n",
       "      <td>-0.042818</td>\n",
       "      <td>mabel</td>\n",
       "      <td>0.729473</td>\n",
       "      <td>SG_50</td>\n",
       "      <td>False</td>\n",
       "    </tr>\n",
       "    <tr>\n",
       "      <td>7</td>\n",
       "      <td>eye is to eyes as word is to ?</td>\n",
       "      <td>words</td>\n",
       "      <td>0.010355</td>\n",
       "      <td>eye</td>\n",
       "      <td>0.560499</td>\n",
       "      <td>SG_150</td>\n",
       "      <td>False</td>\n",
       "    </tr>\n",
       "    <tr>\n",
       "      <td>8</td>\n",
       "      <td>eye is to eyes as word is to ?</td>\n",
       "      <td>words</td>\n",
       "      <td>0.057661</td>\n",
       "      <td>eye</td>\n",
       "      <td>0.600743</td>\n",
       "      <td>SG_300</td>\n",
       "      <td>False</td>\n",
       "    </tr>\n",
       "    <tr>\n",
       "      <td>9</td>\n",
       "      <td>eye is to eyes as word is to ?</td>\n",
       "      <td>words</td>\n",
       "      <td>0.122762</td>\n",
       "      <td>word</td>\n",
       "      <td>0.561993</td>\n",
       "      <td>CBOW_50</td>\n",
       "      <td>False</td>\n",
       "    </tr>\n",
       "    <tr>\n",
       "      <td>10</td>\n",
       "      <td>eye is to eyes as word is to ?</td>\n",
       "      <td>words</td>\n",
       "      <td>0.041161</td>\n",
       "      <td>word</td>\n",
       "      <td>0.502455</td>\n",
       "      <td>CBOW_150</td>\n",
       "      <td>False</td>\n",
       "    </tr>\n",
       "    <tr>\n",
       "      <td>11</td>\n",
       "      <td>eye is to eyes as word is to ?</td>\n",
       "      <td>words</td>\n",
       "      <td>0.032078</td>\n",
       "      <td>word</td>\n",
       "      <td>0.483835</td>\n",
       "      <td>CBOW_300</td>\n",
       "      <td>False</td>\n",
       "    </tr>\n",
       "    <tr>\n",
       "      <td>12</td>\n",
       "      <td>go is to went as do is to ?</td>\n",
       "      <td>did</td>\n",
       "      <td>0.205078</td>\n",
       "      <td>me</td>\n",
       "      <td>0.706704</td>\n",
       "      <td>SG_50</td>\n",
       "      <td>False</td>\n",
       "    </tr>\n",
       "    <tr>\n",
       "      <td>13</td>\n",
       "      <td>go is to went as do is to ?</td>\n",
       "      <td>did</td>\n",
       "      <td>0.062404</td>\n",
       "      <td>do</td>\n",
       "      <td>0.603889</td>\n",
       "      <td>SG_150</td>\n",
       "      <td>False</td>\n",
       "    </tr>\n",
       "    <tr>\n",
       "      <td>14</td>\n",
       "      <td>go is to went as do is to ?</td>\n",
       "      <td>did</td>\n",
       "      <td>0.038352</td>\n",
       "      <td>do</td>\n",
       "      <td>0.620704</td>\n",
       "      <td>SG_300</td>\n",
       "      <td>False</td>\n",
       "    </tr>\n",
       "    <tr>\n",
       "      <td>15</td>\n",
       "      <td>go is to went as do is to ?</td>\n",
       "      <td>did</td>\n",
       "      <td>-0.035347</td>\n",
       "      <td>do</td>\n",
       "      <td>0.581160</td>\n",
       "      <td>CBOW_50</td>\n",
       "      <td>False</td>\n",
       "    </tr>\n",
       "    <tr>\n",
       "      <td>16</td>\n",
       "      <td>go is to went as do is to ?</td>\n",
       "      <td>did</td>\n",
       "      <td>0.029087</td>\n",
       "      <td>go</td>\n",
       "      <td>0.583120</td>\n",
       "      <td>CBOW_150</td>\n",
       "      <td>False</td>\n",
       "    </tr>\n",
       "    <tr>\n",
       "      <td>17</td>\n",
       "      <td>go is to went as do is to ?</td>\n",
       "      <td>did</td>\n",
       "      <td>0.061798</td>\n",
       "      <td>go</td>\n",
       "      <td>0.550555</td>\n",
       "      <td>CBOW_300</td>\n",
       "      <td>False</td>\n",
       "    </tr>\n",
       "    <tr>\n",
       "      <td>18</td>\n",
       "      <td>know is to knew as is is to ?</td>\n",
       "      <td>was</td>\n",
       "      <td>0.281980</td>\n",
       "      <td>is</td>\n",
       "      <td>0.759913</td>\n",
       "      <td>SG_50</td>\n",
       "      <td>False</td>\n",
       "    </tr>\n",
       "    <tr>\n",
       "      <td>19</td>\n",
       "      <td>know is to knew as is is to ?</td>\n",
       "      <td>was</td>\n",
       "      <td>0.002911</td>\n",
       "      <td>know</td>\n",
       "      <td>0.506507</td>\n",
       "      <td>SG_150</td>\n",
       "      <td>False</td>\n",
       "    </tr>\n",
       "    <tr>\n",
       "      <td>20</td>\n",
       "      <td>know is to knew as is is to ?</td>\n",
       "      <td>was</td>\n",
       "      <td>-0.044304</td>\n",
       "      <td>know</td>\n",
       "      <td>0.497205</td>\n",
       "      <td>SG_300</td>\n",
       "      <td>False</td>\n",
       "    </tr>\n",
       "    <tr>\n",
       "      <td>21</td>\n",
       "      <td>know is to knew as is is to ?</td>\n",
       "      <td>was</td>\n",
       "      <td>0.187789</td>\n",
       "      <td>know</td>\n",
       "      <td>0.548451</td>\n",
       "      <td>CBOW_50</td>\n",
       "      <td>False</td>\n",
       "    </tr>\n",
       "    <tr>\n",
       "      <td>22</td>\n",
       "      <td>know is to knew as is is to ?</td>\n",
       "      <td>was</td>\n",
       "      <td>0.020203</td>\n",
       "      <td>know</td>\n",
       "      <td>0.591736</td>\n",
       "      <td>CBOW_150</td>\n",
       "      <td>False</td>\n",
       "    </tr>\n",
       "    <tr>\n",
       "      <td>23</td>\n",
       "      <td>know is to knew as is is to ?</td>\n",
       "      <td>was</td>\n",
       "      <td>0.036852</td>\n",
       "      <td>know</td>\n",
       "      <td>0.584038</td>\n",
       "      <td>CBOW_300</td>\n",
       "      <td>False</td>\n",
       "    </tr>\n",
       "  </tbody>\n",
       "</table>\n",
       "</div>"
      ],
      "text/plain": [
       "                      Analogy task True word      sim1 Predicted word  \\\n",
       "0      he is to him as she is to ?       her  0.260575             he   \n",
       "1      he is to him as she is to ?       her -0.024845            she   \n",
       "2      he is to him as she is to ?       her -0.028425            she   \n",
       "3      he is to him as she is to ?       her -0.115868             he   \n",
       "4      he is to him as she is to ?       her -0.081710             he   \n",
       "5      he is to him as she is to ?       her -0.081410            she   \n",
       "6   eye is to eyes as word is to ?     words -0.042818          mabel   \n",
       "7   eye is to eyes as word is to ?     words  0.010355            eye   \n",
       "8   eye is to eyes as word is to ?     words  0.057661            eye   \n",
       "9   eye is to eyes as word is to ?     words  0.122762           word   \n",
       "10  eye is to eyes as word is to ?     words  0.041161           word   \n",
       "11  eye is to eyes as word is to ?     words  0.032078           word   \n",
       "12     go is to went as do is to ?       did  0.205078             me   \n",
       "13     go is to went as do is to ?       did  0.062404             do   \n",
       "14     go is to went as do is to ?       did  0.038352             do   \n",
       "15     go is to went as do is to ?       did -0.035347             do   \n",
       "16     go is to went as do is to ?       did  0.029087             go   \n",
       "17     go is to went as do is to ?       did  0.061798             go   \n",
       "18   know is to knew as is is to ?       was  0.281980             is   \n",
       "19   know is to knew as is is to ?       was  0.002911           know   \n",
       "20   know is to knew as is is to ?       was -0.044304           know   \n",
       "21   know is to knew as is is to ?       was  0.187789           know   \n",
       "22   know is to knew as is is to ?       was  0.020203           know   \n",
       "23   know is to knew as is is to ?       was  0.036852           know   \n",
       "\n",
       "        sim2 Embedding Correct?  \n",
       "0   0.768761     SG_50    False  \n",
       "1   0.554767    SG_150    False  \n",
       "2   0.573049    SG_300    False  \n",
       "3   0.662769   CBOW_50    False  \n",
       "4   0.668650  CBOW_150    False  \n",
       "5   0.669001  CBOW_300    False  \n",
       "6   0.729473     SG_50    False  \n",
       "7   0.560499    SG_150    False  \n",
       "8   0.600743    SG_300    False  \n",
       "9   0.561993   CBOW_50    False  \n",
       "10  0.502455  CBOW_150    False  \n",
       "11  0.483835  CBOW_300    False  \n",
       "12  0.706704     SG_50    False  \n",
       "13  0.603889    SG_150    False  \n",
       "14  0.620704    SG_300    False  \n",
       "15  0.581160   CBOW_50    False  \n",
       "16  0.583120  CBOW_150    False  \n",
       "17  0.550555  CBOW_300    False  \n",
       "18  0.759913     SG_50    False  \n",
       "19  0.506507    SG_150    False  \n",
       "20  0.497205    SG_300    False  \n",
       "21  0.548451   CBOW_50    False  \n",
       "22  0.591736  CBOW_150    False  \n",
       "23  0.584038  CBOW_300    False  "
      ]
     },
     "execution_count": 101,
     "metadata": {},
     "output_type": "execute_result"
    }
   ],
   "source": [
    "df = pd.DataFrame(columns = ['Analogy task', 'True word', 'sim1', 'Predicted word' ,'sim2', 'Embedding', 'Correct?'])\n",
    "\n",
    "firstRelations = [[\"he\", \"him\"], [\"eye\", \"eyes\"], [\"go\", \"went\"],  [\"know\", \"knew\"]]\n",
    "secondRelations = [[\"she\", \"her\"], [\"word\", \"words\"], [\"do\", \"did\"], [\"is\", \"was\"]]\n",
    "\n",
    "for rel_1, rel_2 in zip(firstRelations, secondRelations):\n",
    "    \n",
    "    for emb_name in emb_dict:\n",
    "\n",
    "        output = analogyOutput(emb_name, rel_1, rel_2)\n",
    "        df = df.append(pd.Series(output, index=df.columns), ignore_index=True)\n",
    "df"
   ]
  },
  {
   "cell_type": "markdown",
   "metadata": {
    "colab_type": "text",
    "id": "5h-OWIF9AsKH"
   },
   "source": [
    "## Task 1.4 - Discussion\n",
    "Answer the following question:\n",
    "* Given the same number of sentences as input, CBOW and Skipgram arrange the data into different number of training samples. Which one has more and why?\n"
   ]
  },
  {
   "cell_type": "markdown",
   "metadata": {},
   "source": [
    "##### ANSWER:\n",
    "\n",
    "The skipgram model arranges the data in such a way that a certain word gets matched with its context words. More specifically, every word gets paired up with all the words in its defined context (*window_size* words in front of the word and *window_size* words behind the word), such that the training samples consist of word pairs, i.e. [(word, context_word1), (word, context_word2), (word, context_word3), (word, context_word4)] for a window_size of 2. \n",
    "\n",
    "On the contrary, the CBOW model matches the whole context of a word to that word itself. The embedding of all the words in the context gets averaged to obtain one embedding of the complete context. The training sample for one word takes the form ([context_word1, context_word2, context_word3, context_word4], word). \n",
    "\n",
    "Note that one single word in the corpus results in the generation of 2 * *window_size* training samples for the Skipgram model, whereas for the CBOW model one single word results in the generation of only 1 training sample. "
   ]
  },
  {
   "cell_type": "markdown",
   "metadata": {
    "colab_type": "text",
    "id": "mOa7EXhD-saI"
   },
   "source": [
    "# Question 2 - Peer review (0 pt):\n",
    "Finally, each group member must write a single paragraph outlining their opinion on the work distribution within the group. Did every group member\n",
    "contribute equally? Did you split up tasks in a fair manner, or jointly worked through the exercises. Do you think that some members of your group deserve a different grade from others? You can use the table below to make an overview of how the tasks were divided:\n",
    "\n"
   ]
  },
  {
   "cell_type": "markdown",
   "metadata": {
    "colab_type": "text",
    "id": "RWdcoJH__MqP"
   },
   "source": [
    "| Student name | Task  |\n",
    "|------|------|\n",
    "|  student name 1  | task x |\n",
    "| student name 2  | task x|\n",
    "| everyone | task x|\n"
   ]
  },
  {
   "cell_type": "code",
   "execution_count": null,
   "metadata": {
    "colab": {},
    "colab_type": "code",
    "id": "5ie_FQhMx6Jb"
   },
   "outputs": [],
   "source": []
  }
 ],
 "metadata": {
  "colab": {
   "collapsed_sections": [],
   "name": "Assignment_1_(TF_2).ipynb",
   "provenance": [],
   "toc_visible": true
  },
  "kernelspec": {
   "display_name": "Python 3",
   "language": "python",
   "name": "python3"
  },
  "language_info": {
   "codemirror_mode": {
    "name": "ipython",
    "version": 3
   },
   "file_extension": ".py",
   "mimetype": "text/x-python",
   "name": "python",
   "nbconvert_exporter": "python",
   "pygments_lexer": "ipython3",
   "version": "3.7.6"
  }
 },
 "nbformat": 4,
 "nbformat_minor": 4
}

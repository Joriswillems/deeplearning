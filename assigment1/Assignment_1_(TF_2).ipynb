{
 "cells": [
  {
   "cell_type": "markdown",
   "metadata": {
    "colab_type": "text",
    "id": "7ORVPadj7rKq"
   },
   "source": [
    "# Assignment 1\n",
    "\n",
    "<b>Group 82</b>\n",
    "* <b> Student 1 </b> : Joris Willems, 0908753\n",
    "* <b> Student 2 </b> : Lars Schilders, 0908729\n",
    "\n",
    "**Reading material**\n",
    "* [1] Mikolov, Tomas, et al. \"[Efficient Estimation of Word Representations in Vector Space](https://arxiv.org/abs/1301.3781)\" Advances in neural information processing systems. 2013. \n",
    "\n",
    "<b><font color='red'>NOTE</font></b> When submitting your notebook, please make sure that the training history of your model is visible in the output. This means that you should **NOT** clean your output cells of the notebook. Make sure that your notebook runs without errors in linear order.\n",
    "\n"
   ]
  },
  {
   "cell_type": "markdown",
   "metadata": {
    "colab_type": "text",
    "id": "6rQwLyiMFu_1"
   },
   "source": [
    "# Question 1 - Keras implementation (10 pt)\n",
    "\n",
    "### Word embeddings\n",
    "Build word embeddings with a Keras implementation where the embedding vector is of length 50, 150 and 300. Use the Alice in Wonderland text book for training. Use a window size of 2 to train the embeddings (`window_size` in the jupyter notebook). \n",
    "\n",
    "1. Build word embeddings of length 50, 150 and 300 using the Skipgram model\n",
    "2. Build word embeddings of length 50, 150 and 300 using CBOW model\n",
    "3. Analyze the different word embeddings:\n",
    "    - Implement your own function to perform the analogy task (see [1] for concrete examples). Use the same distance metric as in the paper. Do not use existing libraries for this task such as Gensim. \n",
    "Your function should be able to answer whether an analogy like: \"a king is to a queen as a man is to a woman\" ($e_{king} - e_{queen} + e_{woman} \\approx e_{man}$) is true. $e_{x}$ denotes the embedding of word $x$. We want to find the word $p$ in the vocabulary, where the embedding of $p$ ($e_p$) is the closest to the predicted embedding (i.e. result of the formula). Then, we can check if $p$ is the same word as the true word $t$.\n",
    "    - Give at least 5 different  examples of analogies.\n",
    "    - Compare the performance on the analogy tasks between the word embeddings and briefly discuss your results.\n",
    "\n",
    "4. Discuss:\n",
    "  - Given the same number of sentences as input, CBOW and Skipgram arrange the data into different number of training samples. Which one has more and why?\n",
    "\n",
    "\n",
    "<b>HINT</b> See practical 3.1 for some helpful code to start this assignment.\n"
   ]
  },
  {
   "cell_type": "markdown",
   "metadata": {
    "colab_type": "text",
    "id": "ctoyAoX1AI6T"
   },
   "source": [
    "### Import libraries"
   ]
  },
  {
   "cell_type": "code",
   "execution_count": 43,
   "metadata": {
    "colab": {},
    "colab_type": "code",
    "id": "x5VOelR7BYQ1"
   },
   "outputs": [
    {
     "name": "stderr",
     "output_type": "stream",
     "text": [
      "UsageError: Line magic function `%tensorflow_version` not found.\n"
     ]
    }
   ],
   "source": [
    "%tensorflow_version 2.x"
   ]
  },
  {
   "cell_type": "code",
   "execution_count": 44,
   "metadata": {
    "colab": {
     "base_uri": "https://localhost:8080/",
     "height": 34
    },
    "colab_type": "code",
    "executionInfo": {
     "elapsed": 6983,
     "status": "ok",
     "timestamp": 1589279725100,
     "user": {
      "displayName": "Lars Schilders",
      "photoUrl": "",
      "userId": "04132714612324641452"
     },
     "user_tz": -120
    },
    "id": "vCnATRPgBZEd",
    "outputId": "66766056-0360-4bcb-8240-27b98039d1a1"
   },
   "outputs": [],
   "source": [
    "import numpy as np\n",
    "import keras.backend as K\n",
    "import tensorflow as tf\n",
    "from tensorflow import keras\n",
    "\n",
    "from tensorflow.keras.models import Sequential\n",
    "from tensorflow.keras.layers import Dense, Embedding, Reshape, Lambda\n",
    "from tensorflow.keras.utils import to_categorical\n",
    "from tensorflow.keras.preprocessing.text import Tokenizer\n",
    "from tensorflow.keras.utils import plot_model\n",
    "from tensorflow.keras.preprocessing import sequence\n",
    "\n",
    "# other helpful libraries\n",
    "from sklearn.manifold import TSNE\n",
    "from sklearn.metrics.pairwise import cosine_similarity\n",
    "from sklearn.neighbors import NearestNeighbors as nn\n",
    "from matplotlib import pylab as plt\n",
    "import pandas as pd"
   ]
  },
  {
   "cell_type": "code",
   "execution_count": 45,
   "metadata": {},
   "outputs": [],
   "source": [
    "def save_history(path, history):\n",
    "    import json, os\n",
    "    with open(path, 'w') as f:\n",
    "        json.dump(history.history, f)\n",
    "        \n",
    "def save_embedding(path, model):\n",
    "    np.save(path, model.get_weights()[0])\n",
    "    \n",
    "def plot_history(history, title):\n",
    "    pd.DataFrame(history.history).plot()\n",
    "    plt.title(title)\n",
    "    plt.xlabel(\"epochs\")\n",
    "    plt.ylabel(\"Cross-Entropy\")\n",
    "    plt.show()\n",
    "    "
   ]
  },
  {
   "cell_type": "code",
   "execution_count": 46,
   "metadata": {
    "colab": {
     "base_uri": "https://localhost:8080/",
     "height": 34
    },
    "colab_type": "code",
    "executionInfo": {
     "elapsed": 6981,
     "status": "ok",
     "timestamp": 1589279725101,
     "user": {
      "displayName": "Lars Schilders",
      "photoUrl": "",
      "userId": "04132714612324641452"
     },
     "user_tz": -120
    },
    "id": "qBNCPtOoBbB1",
    "outputId": "8cf8d48f-9b08-478c-e7a3-288bb932eaf3"
   },
   "outputs": [
    {
     "name": "stdout",
     "output_type": "stream",
     "text": [
      "2.1.0\n"
     ]
    }
   ],
   "source": [
    "print(tf.__version__) #  check what version of TF is imported"
   ]
  },
  {
   "cell_type": "markdown",
   "metadata": {
    "colab_type": "text",
    "id": "WCd0zUO1AKjY"
   },
   "source": [
    "### Import file\n",
    "\n",
    "If you use Google Colab, you need to mount your Google Drive to the notebook when you want to use files that are located in your Google Drive. Paste the authorization code, from the new tab page that opens automatically when running the cell, in the cell below."
   ]
  },
  {
   "cell_type": "code",
   "execution_count": 4,
   "metadata": {
    "colab": {
     "base_uri": "https://localhost:8080/",
     "height": 122
    },
    "colab_type": "code",
    "executionInfo": {
     "elapsed": 24562,
     "status": "ok",
     "timestamp": 1589279742721,
     "user": {
      "displayName": "Lars Schilders",
      "photoUrl": "",
      "userId": "04132714612324641452"
     },
     "user_tz": -120
    },
    "id": "DdjNeehKBd-a",
    "outputId": "bccb459c-8be3-467d-9598-760ae04e7084"
   },
   "outputs": [
    {
     "ename": "ModuleNotFoundError",
     "evalue": "No module named 'google.colab'",
     "output_type": "error",
     "traceback": [
      "\u001b[0;31m---------------------------------------------------------------------------\u001b[0m",
      "\u001b[0;31mModuleNotFoundError\u001b[0m                       Traceback (most recent call last)",
      "\u001b[0;32m<ipython-input-4-d5df0069828e>\u001b[0m in \u001b[0;36m<module>\u001b[0;34m\u001b[0m\n\u001b[0;32m----> 1\u001b[0;31m \u001b[0;32mfrom\u001b[0m \u001b[0mgoogle\u001b[0m\u001b[0;34m.\u001b[0m\u001b[0mcolab\u001b[0m \u001b[0;32mimport\u001b[0m \u001b[0mdrive\u001b[0m\u001b[0;34m\u001b[0m\u001b[0;34m\u001b[0m\u001b[0m\n\u001b[0m\u001b[1;32m      2\u001b[0m \u001b[0mdrive\u001b[0m\u001b[0;34m.\u001b[0m\u001b[0mmount\u001b[0m\u001b[0;34m(\u001b[0m\u001b[0;34m'/content/drive'\u001b[0m\u001b[0;34m)\u001b[0m\u001b[0;34m\u001b[0m\u001b[0;34m\u001b[0m\u001b[0m\n",
      "\u001b[0;31mModuleNotFoundError\u001b[0m: No module named 'google.colab'"
     ]
    }
   ],
   "source": [
    "from google.colab import drive\n",
    "drive.mount('/content/drive')"
   ]
  },
  {
   "cell_type": "markdown",
   "metadata": {
    "colab_type": "text",
    "id": "UjIVBt8YGUaO"
   },
   "source": [
    "Navigate to the folder in which `alice.txt` is located. Make sure to start path with '/content/drive/My Drive/' if you want to load the file from your Google Drive."
   ]
  },
  {
   "cell_type": "code",
   "execution_count": null,
   "metadata": {
    "colab": {
     "base_uri": "https://localhost:8080/",
     "height": 34
    },
    "colab_type": "code",
    "executionInfo": {
     "elapsed": 555,
     "status": "ok",
     "timestamp": 1589279763064,
     "user": {
      "displayName": "Lars Schilders",
      "photoUrl": "",
      "userId": "04132714612324641452"
     },
     "user_tz": -120
    },
    "id": "iS0-uINUBfic",
    "outputId": "a7068012-ab31-4d87-a9b8-2ac9c37fb194"
   },
   "outputs": [],
   "source": [
    "cd '/content/drive/My Drive/Colab Notebooks/2IMM10 - Deep Learning/'"
   ]
  },
  {
   "cell_type": "code",
   "execution_count": 49,
   "metadata": {
    "colab": {},
    "colab_type": "code",
    "id": "Gz8Z5gCDBhSl"
   },
   "outputs": [],
   "source": [
    "file_name = 'alice.txt'\n",
    "corpus = open(file_name).readlines()"
   ]
  },
  {
   "cell_type": "markdown",
   "metadata": {
    "colab_type": "text",
    "id": "zkbk32wHANnD"
   },
   "source": [
    "### Data preprocessing\n",
    "\n",
    "See Practical 3.1 for an explanation of the preprocessing steps done below."
   ]
  },
  {
   "cell_type": "code",
   "execution_count": 50,
   "metadata": {
    "colab": {},
    "colab_type": "code",
    "id": "37PyOHq2BkY4"
   },
   "outputs": [],
   "source": [
    "# Removes sentences with fewer than 3 words\n",
    "corpus = [sentence for sentence in corpus if sentence.count(\" \") >= 2]\n",
    "\n",
    "# remove punctuation in text and fit tokenizer on entire corpus\n",
    "tokenizer = Tokenizer(filters='!\"#$%&()*+,-./:;<=>?@[\\\\]^_`{|}~\\t\\n'+\"'\")\n",
    "tokenizer.fit_on_texts(corpus)\n",
    "\n",
    "# convert text to sequence of integer values\n",
    "corpus = tokenizer.texts_to_sequences(corpus)\n",
    "n_samples = sum(len(s) for s in corpus) # total number of words in the corpus\n",
    "V = len(tokenizer.word_index) + 1 # total number of unique words in the corpus"
   ]
  },
  {
   "cell_type": "code",
   "execution_count": 51,
   "metadata": {
    "colab": {
     "base_uri": "https://localhost:8080/",
     "height": 34
    },
    "colab_type": "code",
    "executionInfo": {
     "elapsed": 362,
     "status": "ok",
     "timestamp": 1589279777863,
     "user": {
      "displayName": "Lars Schilders",
      "photoUrl": "",
      "userId": "04132714612324641452"
     },
     "user_tz": -120
    },
    "id": "ILdA_IimBlte",
    "outputId": "30756520-d777-4968-ff46-d5364fc5bf4e"
   },
   "outputs": [
    {
     "name": "stdout",
     "output_type": "stream",
     "text": [
      "Number of words in corpus: 27165 \n",
      "Number of words in vocabulary: 2557\n"
     ]
    }
   ],
   "source": [
    "print(\"Number of words in corpus: {} \\nNumber of words in vocabulary: {}\".format(n_samples, V))"
   ]
  },
  {
   "cell_type": "code",
   "execution_count": 52,
   "metadata": {
    "colab": {
     "base_uri": "https://localhost:8080/",
     "height": 34
    },
    "colab_type": "code",
    "executionInfo": {
     "elapsed": 594,
     "status": "ok",
     "timestamp": 1589279780456,
     "user": {
      "displayName": "Lars Schilders",
      "photoUrl": "",
      "userId": "04132714612324641452"
     },
     "user_tz": -120
    },
    "id": "fRbpue0WBms6",
    "outputId": "ebbf9719-6d1f-4a02-ec75-cdbe1ecc9589"
   },
   "outputs": [
    {
     "name": "stdout",
     "output_type": "stream",
     "text": [
      "[('the', 1), ('and', 2), ('to', 3), ('a', 4), ('it', 5)]\n"
     ]
    }
   ],
   "source": [
    "# example of how word to integer mapping looks like in the tokenizer\n",
    "print(list((tokenizer.word_index.items()))[:5])"
   ]
  },
  {
   "cell_type": "code",
   "execution_count": 53,
   "metadata": {
    "colab": {},
    "colab_type": "code",
    "id": "Er86VxH9BqI9"
   },
   "outputs": [],
   "source": [
    "# parameters\n",
    "window_size = 2\n",
    "window_size_corpus = 4"
   ]
  },
  {
   "cell_type": "markdown",
   "metadata": {
    "colab_type": "text",
    "id": "M0sU1JORATvX"
   },
   "source": [
    "## Task 1.1 - Skipgram\n",
    "Build word embeddings of length 50, 150 and 300 using the Skipgram model."
   ]
  },
  {
   "cell_type": "code",
   "execution_count": 54,
   "metadata": {
    "colab": {},
    "colab_type": "code",
    "id": "Udp1xKcDBu0v"
   },
   "outputs": [],
   "source": [
    "#prepare data for skipgram\n",
    "def generate_data_skipgram(corpus, window_size, V):\n",
    "\n",
    "    maxlen = window_size*2\n",
    "    all_in = []\n",
    "    all_out = []\n",
    "    for words in corpus:\n",
    "        L = len(words)\n",
    "        for index, word in enumerate(words):\n",
    "            p = index - window_size\n",
    "            n = index + window_size + 1\n",
    "                    \n",
    "            in_words = []\n",
    "            labels = []\n",
    "            for i in range(p, n):\n",
    "                if i != index and 0 <= i < L:\n",
    "                    # Add the input word\n",
    "                    #in_words.append(word)\n",
    "                    all_in.append(word)\n",
    "                    # Add one-hot of the context words\n",
    "                    all_out.append(to_categorical(words[i], V))\n",
    "                                      \n",
    "    return (np.array(all_in),np.array(all_out))"
   ]
  },
  {
   "cell_type": "code",
   "execution_count": 55,
   "metadata": {
    "colab": {},
    "colab_type": "code",
    "id": "qXBGNrKTB0tO"
   },
   "outputs": [],
   "source": [
    "# create training data\n",
    "x , y = generate_data_skipgram(corpus,window_size,V)"
   ]
  },
  {
   "cell_type": "code",
   "execution_count": 58,
   "metadata": {
    "colab": {},
    "colab_type": "code",
    "id": "J1FTkStoDLFQ"
   },
   "outputs": [
    {
     "name": "stdout",
     "output_type": "stream",
     "text": [
      "Train on 94556 samples\n",
      "Epoch 1/15\n",
      "94556/94556 [==============================] - 4s 38us/sample - loss: 6.1133\n",
      "Epoch 2/15\n",
      "94556/94556 [==============================] - 3s 35us/sample - loss: 5.7643\n",
      "Epoch 3/15\n",
      "94556/94556 [==============================] - 3s 36us/sample - loss: 5.6499\n",
      "Epoch 4/15\n",
      "94556/94556 [==============================] - 3s 35us/sample - loss: 5.5616\n",
      "Epoch 5/15\n",
      "94556/94556 [==============================] - 3s 36us/sample - loss: 5.4808\n",
      "Epoch 6/15\n",
      "94556/94556 [==============================] - 3s 36us/sample - loss: 5.4060\n",
      "Epoch 7/15\n",
      "94556/94556 [==============================] - 3s 36us/sample - loss: 5.3358\n",
      "Epoch 8/15\n",
      "94556/94556 [==============================] - 3s 35us/sample - loss: 5.2719\n",
      "Epoch 9/15\n",
      "94556/94556 [==============================] - 3s 35us/sample - loss: 5.2128\n",
      "Epoch 10/15\n",
      "94556/94556 [==============================] - 3s 35us/sample - loss: 5.1591\n",
      "Epoch 11/15\n",
      "94556/94556 [==============================] - 3s 35us/sample - loss: 5.1103\n",
      "Epoch 12/15\n",
      "94556/94556 [==============================] - 3s 35us/sample - loss: 5.0672\n",
      "Epoch 13/15\n",
      "94556/94556 [==============================] - 3s 36us/sample - loss: 5.02610s\n",
      "Epoch 14/15\n",
      "94556/94556 [==============================] - 4s 37us/sample - loss: 4.9901\n",
      "Epoch 15/15\n",
      "94556/94556 [==============================] - 3s 36us/sample - loss: 4.9561\n"
     ]
    },
    {
     "data": {
      "image/png": "[encoded data removed]",
      "text/plain": [
       "<Figure size 432x288 with 1 Axes>"
      ]
     },
     "metadata": {
      "needs_background": "light"
     },
     "output_type": "display_data"
    },
    {
     "name": "stdout",
     "output_type": "stream",
     "text": [
      "Train on 94556 samples\n",
      "Epoch 1/15\n",
      "94556/94556 [==============================] - 5s 50us/sample - loss: 6.0932\n",
      "Epoch 2/15\n",
      "94556/94556 [==============================] - 5s 48us/sample - loss: 5.7343\n",
      "Epoch 3/15\n",
      "94556/94556 [==============================] - 4s 47us/sample - loss: 5.6108\n",
      "Epoch 4/15\n",
      "94556/94556 [==============================] - 5s 48us/sample - loss: 5.5078\n",
      "Epoch 5/15\n",
      "94556/94556 [==============================] - 5s 48us/sample - loss: 5.4129\n",
      "Epoch 6/15\n",
      "94556/94556 [==============================] - 4s 47us/sample - loss: 5.3241\n",
      "Epoch 7/15\n",
      "94556/94556 [==============================] - 4s 47us/sample - loss: 5.2385\n",
      "Epoch 8/15\n",
      "94556/94556 [==============================] - 4s 48us/sample - loss: 5.1593\n",
      "Epoch 9/15\n",
      "94556/94556 [==============================] - 5s 49us/sample - loss: 5.0883\n",
      "Epoch 10/15\n",
      "94556/94556 [==============================] - 5s 48us/sample - loss: 5.0212\n",
      "Epoch 11/15\n",
      "94556/94556 [==============================] - 5s 48us/sample - loss: 4.9625\n",
      "Epoch 12/15\n",
      "94556/94556 [==============================] - 5s 48us/sample - loss: 4.9090\n",
      "Epoch 13/15\n",
      "94556/94556 [==============================] - 5s 48us/sample - loss: 4.8618\n",
      "Epoch 14/15\n",
      "94556/94556 [==============================] - 4s 47us/sample - loss: 4.8196\n",
      "Epoch 15/15\n",
      "94556/94556 [==============================] - 4s 47us/sample - loss: 4.7806\n"
     ]
    },
    {
     "data": {
      "image/png": "[encoded data removed]",
      "text/plain": [
       "<Figure size 432x288 with 1 Axes>"
      ]
     },
     "metadata": {
      "needs_background": "light"
     },
     "output_type": "display_data"
    },
    {
     "name": "stdout",
     "output_type": "stream",
     "text": [
      "Train on 94556 samples\n",
      "Epoch 1/15\n",
      "94556/94556 [==============================] - 7s 73us/sample - loss: 6.0799\n",
      "Epoch 2/15\n",
      "94556/94556 [==============================] - 7s 72us/sample - loss: 5.7161\n",
      "Epoch 3/15\n",
      "94556/94556 [==============================] - 7s 71us/sample - loss: 5.5854\n",
      "Epoch 4/15\n",
      "94556/94556 [==============================] - 7s 71us/sample - loss: 5.4756\n",
      "Epoch 5/15\n",
      "94556/94556 [==============================] - 7s 73us/sample - loss: 5.3738\n",
      "Epoch 6/15\n",
      "94556/94556 [==============================] - 7s 72us/sample - loss: 5.2780\n",
      "Epoch 7/15\n",
      "94556/94556 [==============================] - 7s 72us/sample - loss: 5.1883\n",
      "Epoch 8/15\n",
      "94556/94556 [==============================] - 7s 73us/sample - loss: 5.1065\n",
      "Epoch 9/15\n",
      "94556/94556 [==============================] - 7s 71us/sample - loss: 5.0335\n",
      "Epoch 10/15\n",
      "94556/94556 [==============================] - 7s 71us/sample - loss: 4.9674\n",
      "Epoch 11/15\n",
      "94556/94556 [==============================] - 7s 72us/sample - loss: 4.9091\n",
      "Epoch 12/15\n",
      "94556/94556 [==============================] - 7s 73us/sample - loss: 4.8569\n",
      "Epoch 13/15\n",
      "94556/94556 [==============================] - 7s 71us/sample - loss: 4.8128\n",
      "Epoch 14/15\n",
      "94556/94556 [==============================] - 7s 71us/sample - loss: 4.7751\n",
      "Epoch 15/15\n",
      "94556/94556 [==============================] - 7s 71us/sample - loss: 4.7404\n"
     ]
    },
    {
     "data": {
      "image/png": "[encoded data removed]",
      "text/plain": [
       "<Figure size 432x288 with 1 Axes>"
      ]
     },
     "metadata": {
      "needs_background": "light"
     },
     "output_type": "display_data"
    }
   ],
   "source": [
    "# create skipgram architecture\n",
    "def build_skipgram(dim):\n",
    "    skipgram = Sequential()\n",
    "    skipgram.add(Embedding(input_dim=V, output_dim=dim, embeddings_initializer='glorot_uniform', input_length=1))\n",
    "    skipgram.add(Reshape((dim, )))\n",
    "    skipgram.add(Dense(V, kernel_initializer='glorot_uniform', activation='softmax'))\n",
    "    skipgram.compile(loss='categorical_crossentropy', optimizer=keras.optimizers.SGD(learning_rate=2))\n",
    "    return skipgram\n",
    "\n",
    "def fit_skipgram(dim, batch_size=64, epochs=20):\n",
    "    skipgram = build_skipgram(dim)\n",
    "    history = skipgram.fit(x, y, batch_size=batch_size, epochs=epochs)\n",
    "    save_embedding(\"embeddingSkipgram/{}.npy\".format(dim), skipgram)\n",
    "    save_history(\"embeddingSkipgram/{}.json\".format(dim), history)\n",
    "    plot_history(history, title=\"Skipgram with {}-dim embedding\".format(dim))\n",
    "  \n",
    "fit_skipgram(50, batch_size=64, epochs=15)\n",
    "fit_skipgram(150, batch_size=64, epochs=15)\n",
    "fit_skipgram(300, batch_size=64, epochs=15)"
   ]
  },
  {
   "cell_type": "markdown",
   "metadata": {
    "colab_type": "text",
    "id": "yxb3ulOlD1Z2"
   },
   "source": [
    "<b>HINT</b>: To increase training speed of your model, you can use the free available GPU power in Google Colab. Go to `Edit` --> `Notebook Settings` --> select `GPU` under `hardware accelerator`."
   ]
  },
  {
   "cell_type": "markdown",
   "metadata": {
    "colab_type": "text",
    "id": "b4z9Lt6pAZEw"
   },
   "source": [
    "## Task 1.2 - CBOW\n",
    "\n",
    "Build word embeddings of length 50, 150 and 300 using CBOW model."
   ]
  },
  {
   "cell_type": "code",
   "execution_count": 61,
   "metadata": {
    "colab": {},
    "colab_type": "code",
    "id": "KMhI_sWFTXDW"
   },
   "outputs": [],
   "source": [
    "# prepare data for CBOW\n",
    "def generate_data_cbow(corpus, window_size, V):\n",
    "    \n",
    "    maxlen = window_size*2\n",
    "    all_in = []\n",
    "    all_out = []\n",
    "    for words in corpus:\n",
    "        L = len(words)\n",
    "        for index, word in enumerate(words):\n",
    "            p = index - window_size\n",
    "            n = index + window_size + 1\n",
    "                    \n",
    "            in_words = []\n",
    "            labels = []\n",
    "            \n",
    "            context = [words[i] for i in range(p, n) if ((i != index) and (0 <= i < L))]\n",
    "            context = (maxlen - len(context)) * [0] + context\n",
    "            \n",
    "            all_in.append(context)\n",
    "\n",
    "            all_out.append(to_categorical(word, V))\n",
    "                                      \n",
    "    return (np.array(all_in),np.array(all_out))\n",
    "\n",
    "# create training data\n",
    "x_cbow, y_cbow = generate_data_cbow(corpus,window_size, V)"
   ]
  },
  {
   "cell_type": "code",
   "execution_count": 64,
   "metadata": {
    "colab": {},
    "colab_type": "code",
    "id": "KMhI_sWFTXDW"
   },
   "outputs": [
    {
     "name": "stdout",
     "output_type": "stream",
     "text": [
      "Train on 27165 samples\n",
      "Epoch 1/20\n",
      "27165/27165 [==============================] - 1s 43us/sample - loss: 6.1768\n",
      "Epoch 2/20\n",
      "27165/27165 [==============================] - 1s 36us/sample - loss: 5.5915\n",
      "Epoch 3/20\n",
      "27165/27165 [==============================] - 1s 36us/sample - loss: 5.2859\n",
      "Epoch 4/20\n",
      "27165/27165 [==============================] - 1s 36us/sample - loss: 5.0505\n",
      "Epoch 5/20\n",
      "27165/27165 [==============================] - 1s 36us/sample - loss: 4.8502\n",
      "Epoch 6/20\n",
      "27165/27165 [==============================] - 1s 36us/sample - loss: 4.6677\n",
      "Epoch 7/20\n",
      "27165/27165 [==============================] - 1s 36us/sample - loss: 4.4918\n",
      "Epoch 8/20\n",
      "27165/27165 [==============================] - 1s 37us/sample - loss: 4.3212\n",
      "Epoch 9/20\n",
      "27165/27165 [==============================] - 1s 36us/sample - loss: 4.1593\n",
      "Epoch 10/20\n",
      "27165/27165 [==============================] - 1s 37us/sample - loss: 4.0034\n",
      "Epoch 11/20\n",
      "27165/27165 [==============================] - 1s 37us/sample - loss: 3.84920s - loss: \n",
      "Epoch 12/20\n",
      "27165/27165 [==============================] - 1s 37us/sample - loss: 3.7035\n",
      "Epoch 13/20\n",
      "27165/27165 [==============================] - 1s 36us/sample - loss: 3.5714\n",
      "Epoch 14/20\n",
      "27165/27165 [==============================] - 1s 36us/sample - loss: 3.4382\n",
      "Epoch 15/20\n",
      "27165/27165 [==============================] - 1s 36us/sample - loss: 3.3118\n",
      "Epoch 16/20\n",
      "27165/27165 [==============================] - 1s 36us/sample - loss: 3.2014\n",
      "Epoch 17/20\n",
      "27165/27165 [==============================] - 1s 36us/sample - loss: 3.0900\n",
      "Epoch 18/20\n",
      "27165/27165 [==============================] - 1s 36us/sample - loss: 2.9845\n",
      "Epoch 19/20\n",
      "27165/27165 [==============================] - 1s 35us/sample - loss: 2.8848\n",
      "Epoch 20/20\n",
      "27165/27165 [==============================] - 1s 36us/sample - loss: 2.78910s - loss: 2.788\n"
     ]
    },
    {
     "data": {
      "image/png": "[encoded data removed]",
      "text/plain": [
       "<Figure size 432x288 with 1 Axes>"
      ]
     },
     "metadata": {
      "needs_background": "light"
     },
     "output_type": "display_data"
    },
    {
     "name": "stdout",
     "output_type": "stream",
     "text": [
      "Train on 27165 samples\n",
      "Epoch 1/20\n",
      "27165/27165 [==============================] - 1s 54us/sample - loss: 6.1345\n",
      "Epoch 2/20\n",
      "27165/27165 [==============================] - 1s 48us/sample - loss: 5.5182\n",
      "Epoch 3/20\n",
      "27165/27165 [==============================] - 1s 47us/sample - loss: 5.2007\n",
      "Epoch 4/20\n",
      "27165/27165 [==============================] - 1s 48us/sample - loss: 4.9549\n",
      "Epoch 5/20\n",
      "27165/27165 [==============================] - 1s 48us/sample - loss: 4.7328\n",
      "Epoch 6/20\n",
      "27165/27165 [==============================] - 1s 48us/sample - loss: 4.5304\n",
      "Epoch 7/20\n",
      "27165/27165 [==============================] - 1s 48us/sample - loss: 4.3281\n",
      "Epoch 8/20\n",
      "27165/27165 [==============================] - 1s 53us/sample - loss: 4.1361\n",
      "Epoch 9/20\n",
      "27165/27165 [==============================] - 1s 48us/sample - loss: 3.9427\n",
      "Epoch 10/20\n",
      "27165/27165 [==============================] - 1s 47us/sample - loss: 3.7608\n",
      "Epoch 11/20\n",
      "27165/27165 [==============================] - 1s 47us/sample - loss: 3.5805\n",
      "Epoch 12/20\n",
      "27165/27165 [==============================] - 1s 48us/sample - loss: 3.4016\n",
      "Epoch 13/20\n",
      "27165/27165 [==============================] - 1s 47us/sample - loss: 3.2381\n",
      "Epoch 14/20\n",
      "27165/27165 [==============================] - 1s 47us/sample - loss: 3.0772\n",
      "Epoch 15/20\n",
      "27165/27165 [==============================] - 1s 48us/sample - loss: 2.9320\n",
      "Epoch 16/20\n",
      "27165/27165 [==============================] - 1s 48us/sample - loss: 2.7840\n",
      "Epoch 17/20\n",
      "27165/27165 [==============================] - 1s 47us/sample - loss: 2.6472\n",
      "Epoch 18/20\n",
      "27165/27165 [==============================] - 1s 48us/sample - loss: 2.5202\n",
      "Epoch 19/20\n",
      "27165/27165 [==============================] - 1s 47us/sample - loss: 2.4031\n",
      "Epoch 20/20\n",
      "27165/27165 [==============================] - 1s 47us/sample - loss: 2.2883\n"
     ]
    },
    {
     "data": {
      "image/png": "[encoded data removed]",
      "text/plain": [
       "<Figure size 432x288 with 1 Axes>"
      ]
     },
     "metadata": {
      "needs_background": "light"
     },
     "output_type": "display_data"
    },
    {
     "name": "stdout",
     "output_type": "stream",
     "text": [
      "Train on 27165 samples\n",
      "Epoch 1/20\n",
      "27165/27165 [==============================] - 2s 81us/sample - loss: 6.1103\n",
      "Epoch 2/20\n",
      "27165/27165 [==============================] - 2s 74us/sample - loss: 5.4776\n",
      "Epoch 3/20\n",
      "27165/27165 [==============================] - 2s 74us/sample - loss: 5.1487\n",
      "Epoch 4/20\n",
      "27165/27165 [==============================] - 2s 74us/sample - loss: 4.8940\n",
      "Epoch 5/20\n",
      "27165/27165 [==============================] - 2s 74us/sample - loss: 4.6622\n",
      "Epoch 6/20\n",
      "27165/27165 [==============================] - 2s 74us/sample - loss: 4.4445\n",
      "Epoch 7/20\n",
      "27165/27165 [==============================] - 2s 74us/sample - loss: 4.2297\n",
      "Epoch 8/20\n",
      "27165/27165 [==============================] - 2s 75us/sample - loss: 4.0260\n",
      "Epoch 9/20\n",
      "27165/27165 [==============================] - 2s 74us/sample - loss: 3.8214\n",
      "Epoch 10/20\n",
      "27165/27165 [==============================] - 2s 76us/sample - loss: 3.6242\n",
      "Epoch 11/20\n",
      "27165/27165 [==============================] - 2s 75us/sample - loss: 3.4404\n",
      "Epoch 12/20\n",
      "27165/27165 [==============================] - 2s 77us/sample - loss: 3.2599\n",
      "Epoch 13/20\n",
      "27165/27165 [==============================] - 2s 76us/sample - loss: 3.0832\n",
      "Epoch 14/20\n",
      "27165/27165 [==============================] - 2s 75us/sample - loss: 2.9209\n",
      "Epoch 15/20\n",
      "27165/27165 [==============================] - 2s 75us/sample - loss: 2.7672\n",
      "Epoch 16/20\n",
      "27165/27165 [==============================] - 2s 78us/sample - loss: 2.6244\n",
      "Epoch 17/20\n",
      "27165/27165 [==============================] - 2s 80us/sample - loss: 2.4930\n",
      "Epoch 18/20\n",
      "27165/27165 [==============================] - 2s 81us/sample - loss: 2.3667\n",
      "Epoch 19/20\n",
      "27165/27165 [==============================] - 2s 76us/sample - loss: 2.2553\n",
      "Epoch 20/20\n",
      "27165/27165 [==============================] - 2s 76us/sample - loss: 2.1516\n"
     ]
    },
    {
     "data": {
      "image/png": "[encoded data removed]",
      "text/plain": [
       "<Figure size 432x288 with 1 Axes>"
      ]
     },
     "metadata": {
      "needs_background": "light"
     },
     "output_type": "display_data"
    }
   ],
   "source": [
    "# create CBOW architecture\n",
    "def build_cbow(dim):\n",
    "    cbow = Sequential()\n",
    "    cbow.add(Embedding(input_dim=V, output_dim=dim, embeddings_initializer='glorot_uniform', input_length=window_size*2))\n",
    "    cbow.add(Lambda(lambda x: K.mean(x, axis=1), output_shape=(dim,)))\n",
    "    cbow.add(Dense(V, kernel_initializer='glorot_uniform', activation='softmax'))\n",
    "    cbow.compile(loss='categorical_crossentropy', optimizer=keras.optimizers.SGD(learning_rate=5))\n",
    "    return cbow\n",
    "\n",
    "def fit_cbow(dim, batch_size=64, epochs=20):\n",
    "    cbow = build_cbow(dim)\n",
    "    x_cbow, y_cbow = generate_data_cbow(corpus,window_size, V)\n",
    "    history = cbow.fit(x_cbow, y_cbow, batch_size=batch_size, epochs=epochs)\n",
    "    save_embedding(\"embeddingCBOW/{}.npy\".format(dim), cbow)\n",
    "    save_history(\"embeddingCBOW/{}.json\".format(dim), history)\n",
    "    plot_history(history, title=\"CBOW with {}-dim embedding\".format(dim))\n",
    "  \n",
    "fit_cbow(50, batch_size=64, epochs=20)\n",
    "fit_cbow(150, batch_size=64, epochs=20)\n",
    "fit_cbow(300, batch_size=64, epochs=20)"
   ]
  },
  {
   "cell_type": "markdown",
   "metadata": {
    "colab_type": "text",
    "id": "rr2BAI4nAfnG"
   },
   "source": [
    "## Task 1.3 - Analogy function\n",
    "\n",
    "Implement your own function to perform the analogy task (see [1] for concrete examples). Use the same distance metric as in [1]. Do not use existing libraries for this task such as Gensim. Your function should be able to answer whether an analogy like: \"a king is to a queen as a man is to a woman\" ($e_{king} - e_{queen} + e_{woman} \\approx e_{man}$) is true. \n",
    "\n",
    "In a perfect scenario, we would like that this analogy ( $e_{king} - e_{queen} + e_{woman}$) results in the embedding of the word \"man\". However, it does not always result in exactly the same word embedding. The result of the formula is called the expected or the predicted word embedding. In this context, \"man\" is called the true or the actual word $t$. We want to find the word $p$ in the vocabulary, where the embedding of $p$ ($e_p$) is the closest to the predicted embedding (i.e. result of the formula). Then, we can check if $p$ is the same word as the true word $t$.  \n",
    "\n",
    "You have to answer an analogy function using each embedding for both CBOW and Skipgram model. This means that for each analogy we have 6 outputs. Show the true word (with distance similarity value between predicted embedding and true word embedding, i.e. `sim1`) , the predicted word (with distance similarity value between predicted embedding and the embedding of the word in the vocabulary that is closest to this predicted embedding, i.e. `sim2`) and a boolean answer whether the predicted word **exactly** equals the true word. \n",
    "\n",
    "<b>HINT</b>: to visualize the results of the analogy tasks , you can print them in a table. An example is given below.\n",
    "\n",
    "\n",
    "| Analogy task | True word (sim1)  | Predicted word (sim2) | Embedding | Correct?|\n",
    "|------|------|------|------|------|\n",
    "|  queen is to king as woman is to ?\t | man (sim1) | predictd_word(sim2) | SG_50 | True / False|\n",
    "\n",
    "* Give at least 5 different  examples of analogies.\n",
    "* Compare the performance on the analogy s between the word embeddings and briefly discuss your results."
   ]
  },
  {
   "cell_type": "code",
   "execution_count": 116,
   "metadata": {},
   "outputs": [],
   "source": [
    "skipgram_embedding_50 = np.load('embeddingSkipgram/50.npy')\n",
    "skipgram_embedding_150 = np.load('embeddingSkipgram/150.npy')\n",
    "skipgram_embedding_300 = np.load('embeddingSkipgram/300.npy')\n",
    "\n",
    "cbow_embedding_50 = np.load('embeddingCBOW/50.npy')\n",
    "cbow_embedding_150 = np.load('embeddingCBOW/150.npy')\n",
    "cbow_embedding_300 = np.load('embeddingCBOW/300.npy')"
   ]
  },
  {
   "cell_type": "code",
   "execution_count": 117,
   "metadata": {},
   "outputs": [],
   "source": [
    "emb_dict = {'SG_50': skipgram_embedding_50, 'SG_150': skipgram_embedding_150, 'SG_300': skipgram_embedding_300,\n",
    "           'CBOW_50': cbow_embedding_50, 'CBOW_150': cbow_embedding_150, 'CBOW_300': cbow_embedding_300}"
   ]
  },
  {
   "cell_type": "code",
   "execution_count": 118,
   "metadata": {
    "colab": {},
    "colab_type": "code",
    "id": "R7vMhZ0LitFC"
   },
   "outputs": [],
   "source": [
    "def embed(word, embedding, vocab_size = V, tokenizer=tokenizer):\n",
    "    # get the index of the word from the tokenizer, i.e. convert the string to it's corresponding integer in the vocabulary\n",
    "    int_word = tokenizer.texts_to_sequences([word])[0]\n",
    "    # get the one-hot encoding of the word\n",
    "    bin_word = to_categorical(int_word, V)\n",
    "    return np.dot(bin_word, embedding)"
   ]
  },
  {
   "cell_type": "code",
   "execution_count": 119,
   "metadata": {},
   "outputs": [],
   "source": [
    "from sklearn.metrics.pairwise import cosine_similarity\n",
    "\n",
    "def findAnalogy(prediction, embedding):\n",
    "    \n",
    "    all_word_embeddings = embed(list(tokenizer.word_index.keys()), embedding)\n",
    "    \n",
    "    similarity = cosine_similarity(all_word_embeddings, prediction)\n",
    "\n",
    "    word_idx = similarity.argsort(axis=0)[-2,0]\n",
    "\n",
    "    return list(tokenizer.word_index.keys())[word_idx]\n",
    "\n"
   ]
  },
  {
   "cell_type": "code",
   "execution_count": 120,
   "metadata": {
    "colab": {
     "base_uri": "https://localhost:8080/",
     "height": 34
    },
    "colab_type": "code",
    "executionInfo": {
     "elapsed": 6245,
     "status": "ok",
     "timestamp": 1589281913535,
     "user": {
      "displayName": "Lars Schilders",
      "photoUrl": "",
      "userId": "04132714612324641452"
     },
     "user_tz": -120
    },
    "id": "iloUdkWPkhks",
    "outputId": "3eeb2dee-6cca-485b-a8f5-4b692b4c16be"
   },
   "outputs": [],
   "source": [
    "def analogyOutput(emb_name, relation_1, relation_2):\n",
    "    \n",
    "    emb = emb_dict[emb_name]\n",
    "    \n",
    "    analogy_task = \"{} is to {} as {} is to ?\".format(relation_1[0], relation_1[1], relation_2[0], relation_2[1])\n",
    "    \n",
    "    prediction = embed(relation_1[0], emb) - embed(relation_1[1], emb) + embed(relation_2[0], emb)\n",
    "    \n",
    "    predicted_word = findAnalogy(prediction, emb)\n",
    "    sim2 = cosine_similarity(prediction, embed(predicted_word, emb))[0,0]\n",
    "    \n",
    "    true_word = relation_2[1]\n",
    "    sim1 = cosine_similarity(prediction, embed(true_word, emb))[0,0]\n",
    "    \n",
    "    correct = true_word == predicted_word\n",
    "    \n",
    "    return [analogy_task, true_word, sim1, predicted_word, sim2, emb_name, correct]"
   ]
  },
  {
   "cell_type": "markdown",
   "metadata": {},
   "source": [
    "## Semantic"
   ]
  },
  {
   "cell_type": "code",
   "execution_count": 121,
   "metadata": {},
   "outputs": [
    {
     "data": {
      "text/html": [
       "<div>\n",
       "<style scoped>\n",
       "    .dataframe tbody tr th:only-of-type {\n",
       "        vertical-align: middle;\n",
       "    }\n",
       "\n",
       "    .dataframe tbody tr th {\n",
       "        vertical-align: top;\n",
       "    }\n",
       "\n",
       "    .dataframe thead th {\n",
       "        text-align: right;\n",
       "    }\n",
       "</style>\n",
       "<table border=\"1\" class=\"dataframe\">\n",
       "  <thead>\n",
       "    <tr style=\"text-align: right;\">\n",
       "      <th></th>\n",
       "      <th>Analogy task</th>\n",
       "      <th>True word</th>\n",
       "      <th>sim1</th>\n",
       "      <th>Predicted word</th>\n",
       "      <th>sim2</th>\n",
       "      <th>Embedding</th>\n",
       "      <th>Correct?</th>\n",
       "    </tr>\n",
       "  </thead>\n",
       "  <tbody>\n",
       "    <tr>\n",
       "      <td>0</td>\n",
       "      <td>up is to down as high is to ?</td>\n",
       "      <td>low</td>\n",
       "      <td>0.025438</td>\n",
       "      <td>up</td>\n",
       "      <td>0.457354</td>\n",
       "      <td>SG_50</td>\n",
       "      <td>False</td>\n",
       "    </tr>\n",
       "    <tr>\n",
       "      <td>1</td>\n",
       "      <td>up is to down as high is to ?</td>\n",
       "      <td>low</td>\n",
       "      <td>-0.048358</td>\n",
       "      <td>up</td>\n",
       "      <td>0.523570</td>\n",
       "      <td>SG_150</td>\n",
       "      <td>False</td>\n",
       "    </tr>\n",
       "    <tr>\n",
       "      <td>2</td>\n",
       "      <td>up is to down as high is to ?</td>\n",
       "      <td>low</td>\n",
       "      <td>-0.054177</td>\n",
       "      <td>up</td>\n",
       "      <td>0.562946</td>\n",
       "      <td>SG_300</td>\n",
       "      <td>False</td>\n",
       "    </tr>\n",
       "    <tr>\n",
       "      <td>3</td>\n",
       "      <td>up is to down as high is to ?</td>\n",
       "      <td>low</td>\n",
       "      <td>0.136027</td>\n",
       "      <td>days</td>\n",
       "      <td>0.446152</td>\n",
       "      <td>CBOW_50</td>\n",
       "      <td>False</td>\n",
       "    </tr>\n",
       "    <tr>\n",
       "      <td>4</td>\n",
       "      <td>up is to down as high is to ?</td>\n",
       "      <td>low</td>\n",
       "      <td>0.070087</td>\n",
       "      <td>high</td>\n",
       "      <td>0.478380</td>\n",
       "      <td>CBOW_150</td>\n",
       "      <td>False</td>\n",
       "    </tr>\n",
       "    <tr>\n",
       "      <td>5</td>\n",
       "      <td>up is to down as high is to ?</td>\n",
       "      <td>low</td>\n",
       "      <td>0.025219</td>\n",
       "      <td>high</td>\n",
       "      <td>0.480810</td>\n",
       "      <td>CBOW_300</td>\n",
       "      <td>False</td>\n",
       "    </tr>\n",
       "    <tr>\n",
       "      <td>6</td>\n",
       "      <td>everything is to nothing as always is to ?</td>\n",
       "      <td>never</td>\n",
       "      <td>0.005491</td>\n",
       "      <td>everything</td>\n",
       "      <td>0.526514</td>\n",
       "      <td>SG_50</td>\n",
       "      <td>False</td>\n",
       "    </tr>\n",
       "    <tr>\n",
       "      <td>7</td>\n",
       "      <td>everything is to nothing as always is to ?</td>\n",
       "      <td>never</td>\n",
       "      <td>-0.006792</td>\n",
       "      <td>everything</td>\n",
       "      <td>0.532912</td>\n",
       "      <td>SG_150</td>\n",
       "      <td>False</td>\n",
       "    </tr>\n",
       "    <tr>\n",
       "      <td>8</td>\n",
       "      <td>everything is to nothing as always is to ?</td>\n",
       "      <td>never</td>\n",
       "      <td>-0.075904</td>\n",
       "      <td>everything</td>\n",
       "      <td>0.538389</td>\n",
       "      <td>SG_300</td>\n",
       "      <td>False</td>\n",
       "    </tr>\n",
       "    <tr>\n",
       "      <td>9</td>\n",
       "      <td>everything is to nothing as always is to ?</td>\n",
       "      <td>never</td>\n",
       "      <td>0.061727</td>\n",
       "      <td>wildly</td>\n",
       "      <td>0.437991</td>\n",
       "      <td>CBOW_50</td>\n",
       "      <td>False</td>\n",
       "    </tr>\n",
       "    <tr>\n",
       "      <td>10</td>\n",
       "      <td>everything is to nothing as always is to ?</td>\n",
       "      <td>never</td>\n",
       "      <td>0.007681</td>\n",
       "      <td>always</td>\n",
       "      <td>0.430138</td>\n",
       "      <td>CBOW_150</td>\n",
       "      <td>False</td>\n",
       "    </tr>\n",
       "    <tr>\n",
       "      <td>11</td>\n",
       "      <td>everything is to nothing as always is to ?</td>\n",
       "      <td>never</td>\n",
       "      <td>0.000026</td>\n",
       "      <td>always</td>\n",
       "      <td>0.471214</td>\n",
       "      <td>CBOW_300</td>\n",
       "      <td>False</td>\n",
       "    </tr>\n",
       "    <tr>\n",
       "      <td>12</td>\n",
       "      <td>king is to queen as woman is to ?</td>\n",
       "      <td>man</td>\n",
       "      <td>0.309499</td>\n",
       "      <td>woman</td>\n",
       "      <td>0.501519</td>\n",
       "      <td>SG_50</td>\n",
       "      <td>False</td>\n",
       "    </tr>\n",
       "    <tr>\n",
       "      <td>13</td>\n",
       "      <td>king is to queen as woman is to ?</td>\n",
       "      <td>man</td>\n",
       "      <td>0.241478</td>\n",
       "      <td>woman</td>\n",
       "      <td>0.422925</td>\n",
       "      <td>SG_150</td>\n",
       "      <td>False</td>\n",
       "    </tr>\n",
       "    <tr>\n",
       "      <td>14</td>\n",
       "      <td>king is to queen as woman is to ?</td>\n",
       "      <td>man</td>\n",
       "      <td>0.179731</td>\n",
       "      <td>woman</td>\n",
       "      <td>0.417481</td>\n",
       "      <td>SG_300</td>\n",
       "      <td>False</td>\n",
       "    </tr>\n",
       "    <tr>\n",
       "      <td>15</td>\n",
       "      <td>king is to queen as woman is to ?</td>\n",
       "      <td>man</td>\n",
       "      <td>0.196012</td>\n",
       "      <td>king</td>\n",
       "      <td>0.465615</td>\n",
       "      <td>CBOW_50</td>\n",
       "      <td>False</td>\n",
       "    </tr>\n",
       "    <tr>\n",
       "      <td>16</td>\n",
       "      <td>king is to queen as woman is to ?</td>\n",
       "      <td>man</td>\n",
       "      <td>0.255431</td>\n",
       "      <td>eaglet</td>\n",
       "      <td>0.364722</td>\n",
       "      <td>CBOW_150</td>\n",
       "      <td>False</td>\n",
       "    </tr>\n",
       "    <tr>\n",
       "      <td>17</td>\n",
       "      <td>king is to queen as woman is to ?</td>\n",
       "      <td>man</td>\n",
       "      <td>0.273430</td>\n",
       "      <td>woman</td>\n",
       "      <td>0.358323</td>\n",
       "      <td>CBOW_300</td>\n",
       "      <td>False</td>\n",
       "    </tr>\n",
       "  </tbody>\n",
       "</table>\n",
       "</div>"
      ],
      "text/plain": [
       "                                  Analogy task True word      sim1  \\\n",
       "0                up is to down as high is to ?       low  0.025438   \n",
       "1                up is to down as high is to ?       low -0.048358   \n",
       "2                up is to down as high is to ?       low -0.054177   \n",
       "3                up is to down as high is to ?       low  0.136027   \n",
       "4                up is to down as high is to ?       low  0.070087   \n",
       "5                up is to down as high is to ?       low  0.025219   \n",
       "6   everything is to nothing as always is to ?     never  0.005491   \n",
       "7   everything is to nothing as always is to ?     never -0.006792   \n",
       "8   everything is to nothing as always is to ?     never -0.075904   \n",
       "9   everything is to nothing as always is to ?     never  0.061727   \n",
       "10  everything is to nothing as always is to ?     never  0.007681   \n",
       "11  everything is to nothing as always is to ?     never  0.000026   \n",
       "12           king is to queen as woman is to ?       man  0.309499   \n",
       "13           king is to queen as woman is to ?       man  0.241478   \n",
       "14           king is to queen as woman is to ?       man  0.179731   \n",
       "15           king is to queen as woman is to ?       man  0.196012   \n",
       "16           king is to queen as woman is to ?       man  0.255431   \n",
       "17           king is to queen as woman is to ?       man  0.273430   \n",
       "\n",
       "   Predicted word      sim2 Embedding Correct?  \n",
       "0              up  0.457354     SG_50    False  \n",
       "1              up  0.523570    SG_150    False  \n",
       "2              up  0.562946    SG_300    False  \n",
       "3            days  0.446152   CBOW_50    False  \n",
       "4            high  0.478380  CBOW_150    False  \n",
       "5            high  0.480810  CBOW_300    False  \n",
       "6      everything  0.526514     SG_50    False  \n",
       "7      everything  0.532912    SG_150    False  \n",
       "8      everything  0.538389    SG_300    False  \n",
       "9          wildly  0.437991   CBOW_50    False  \n",
       "10         always  0.430138  CBOW_150    False  \n",
       "11         always  0.471214  CBOW_300    False  \n",
       "12          woman  0.501519     SG_50    False  \n",
       "13          woman  0.422925    SG_150    False  \n",
       "14          woman  0.417481    SG_300    False  \n",
       "15           king  0.465615   CBOW_50    False  \n",
       "16         eaglet  0.364722  CBOW_150    False  \n",
       "17          woman  0.358323  CBOW_300    False  "
      ]
     },
     "execution_count": 121,
     "metadata": {},
     "output_type": "execute_result"
    }
   ],
   "source": [
    "df_sem = pd.DataFrame(columns = ['Analogy task', 'True word', 'sim1', 'Predicted word' ,'sim2', 'Embedding', 'Correct?'])\n",
    "\n",
    "firstRelations = [[\"up\", \"down\"], [\"everything\",\"nothing\"], [\"king\", \"queen\"]]\n",
    "secondRelations = [[\"high\", \"low\"], [\"always\", \"never\"], [\"woman\", \"man\"]]\n",
    "\n",
    "for rel_1, rel_2 in zip(firstRelations, secondRelations):\n",
    "    \n",
    "    for emb_name in emb_dict:\n",
    "\n",
    "        output = analogyOutput(emb_name, rel_1, rel_2)\n",
    "        df_sem = df_sem.append(pd.Series(output, index=df.columns), ignore_index=True)\n",
    "df_sem"
   ]
  },
  {
   "cell_type": "markdown",
   "metadata": {},
   "source": [
    "## Syntactic"
   ]
  },
  {
   "cell_type": "code",
   "execution_count": 124,
   "metadata": {},
   "outputs": [
    {
     "data": {
      "text/html": [
       "<div>\n",
       "<style scoped>\n",
       "    .dataframe tbody tr th:only-of-type {\n",
       "        vertical-align: middle;\n",
       "    }\n",
       "\n",
       "    .dataframe tbody tr th {\n",
       "        vertical-align: top;\n",
       "    }\n",
       "\n",
       "    .dataframe thead th {\n",
       "        text-align: right;\n",
       "    }\n",
       "</style>\n",
       "<table border=\"1\" class=\"dataframe\">\n",
       "  <thead>\n",
       "    <tr style=\"text-align: right;\">\n",
       "      <th></th>\n",
       "      <th>Analogy task</th>\n",
       "      <th>True word</th>\n",
       "      <th>sim1</th>\n",
       "      <th>Predicted word</th>\n",
       "      <th>sim2</th>\n",
       "      <th>Embedding</th>\n",
       "      <th>Correct?</th>\n",
       "    </tr>\n",
       "  </thead>\n",
       "  <tbody>\n",
       "    <tr>\n",
       "      <td>0</td>\n",
       "      <td>he is to him as she is to ?</td>\n",
       "      <td>her</td>\n",
       "      <td>-0.145152</td>\n",
       "      <td>he</td>\n",
       "      <td>0.638298</td>\n",
       "      <td>SG_50</td>\n",
       "      <td>False</td>\n",
       "    </tr>\n",
       "    <tr>\n",
       "      <td>1</td>\n",
       "      <td>he is to him as she is to ?</td>\n",
       "      <td>her</td>\n",
       "      <td>-0.069658</td>\n",
       "      <td>she</td>\n",
       "      <td>0.559665</td>\n",
       "      <td>SG_150</td>\n",
       "      <td>False</td>\n",
       "    </tr>\n",
       "    <tr>\n",
       "      <td>2</td>\n",
       "      <td>he is to him as she is to ?</td>\n",
       "      <td>her</td>\n",
       "      <td>-0.012359</td>\n",
       "      <td>she</td>\n",
       "      <td>0.553275</td>\n",
       "      <td>SG_300</td>\n",
       "      <td>False</td>\n",
       "    </tr>\n",
       "    <tr>\n",
       "      <td>3</td>\n",
       "      <td>he is to him as she is to ?</td>\n",
       "      <td>her</td>\n",
       "      <td>-0.100626</td>\n",
       "      <td>he</td>\n",
       "      <td>0.669631</td>\n",
       "      <td>CBOW_50</td>\n",
       "      <td>False</td>\n",
       "    </tr>\n",
       "    <tr>\n",
       "      <td>4</td>\n",
       "      <td>he is to him as she is to ?</td>\n",
       "      <td>her</td>\n",
       "      <td>-0.088900</td>\n",
       "      <td>she</td>\n",
       "      <td>0.656205</td>\n",
       "      <td>CBOW_150</td>\n",
       "      <td>False</td>\n",
       "    </tr>\n",
       "    <tr>\n",
       "      <td>5</td>\n",
       "      <td>he is to him as she is to ?</td>\n",
       "      <td>her</td>\n",
       "      <td>-0.063489</td>\n",
       "      <td>she</td>\n",
       "      <td>0.609733</td>\n",
       "      <td>CBOW_300</td>\n",
       "      <td>False</td>\n",
       "    </tr>\n",
       "    <tr>\n",
       "      <td>6</td>\n",
       "      <td>eye is to eyes as word is to ?</td>\n",
       "      <td>words</td>\n",
       "      <td>0.074199</td>\n",
       "      <td>eye</td>\n",
       "      <td>0.572375</td>\n",
       "      <td>SG_50</td>\n",
       "      <td>False</td>\n",
       "    </tr>\n",
       "    <tr>\n",
       "      <td>7</td>\n",
       "      <td>eye is to eyes as word is to ?</td>\n",
       "      <td>words</td>\n",
       "      <td>0.037332</td>\n",
       "      <td>eye</td>\n",
       "      <td>0.535911</td>\n",
       "      <td>SG_150</td>\n",
       "      <td>False</td>\n",
       "    </tr>\n",
       "    <tr>\n",
       "      <td>8</td>\n",
       "      <td>eye is to eyes as word is to ?</td>\n",
       "      <td>words</td>\n",
       "      <td>-0.000736</td>\n",
       "      <td>eye</td>\n",
       "      <td>0.548023</td>\n",
       "      <td>SG_300</td>\n",
       "      <td>False</td>\n",
       "    </tr>\n",
       "    <tr>\n",
       "      <td>9</td>\n",
       "      <td>eye is to eyes as word is to ?</td>\n",
       "      <td>words</td>\n",
       "      <td>0.058812</td>\n",
       "      <td>eye</td>\n",
       "      <td>0.550975</td>\n",
       "      <td>CBOW_50</td>\n",
       "      <td>False</td>\n",
       "    </tr>\n",
       "    <tr>\n",
       "      <td>10</td>\n",
       "      <td>eye is to eyes as word is to ?</td>\n",
       "      <td>words</td>\n",
       "      <td>0.009874</td>\n",
       "      <td>word</td>\n",
       "      <td>0.514873</td>\n",
       "      <td>CBOW_150</td>\n",
       "      <td>False</td>\n",
       "    </tr>\n",
       "    <tr>\n",
       "      <td>11</td>\n",
       "      <td>eye is to eyes as word is to ?</td>\n",
       "      <td>words</td>\n",
       "      <td>0.019095</td>\n",
       "      <td>word</td>\n",
       "      <td>0.522593</td>\n",
       "      <td>CBOW_300</td>\n",
       "      <td>False</td>\n",
       "    </tr>\n",
       "    <tr>\n",
       "      <td>12</td>\n",
       "      <td>go is to went as do is to ?</td>\n",
       "      <td>did</td>\n",
       "      <td>0.118436</td>\n",
       "      <td>do</td>\n",
       "      <td>0.522044</td>\n",
       "      <td>SG_50</td>\n",
       "      <td>False</td>\n",
       "    </tr>\n",
       "    <tr>\n",
       "      <td>13</td>\n",
       "      <td>go is to went as do is to ?</td>\n",
       "      <td>did</td>\n",
       "      <td>0.129707</td>\n",
       "      <td>do</td>\n",
       "      <td>0.612519</td>\n",
       "      <td>SG_150</td>\n",
       "      <td>False</td>\n",
       "    </tr>\n",
       "    <tr>\n",
       "      <td>14</td>\n",
       "      <td>go is to went as do is to ?</td>\n",
       "      <td>did</td>\n",
       "      <td>0.082415</td>\n",
       "      <td>go</td>\n",
       "      <td>0.610539</td>\n",
       "      <td>SG_300</td>\n",
       "      <td>False</td>\n",
       "    </tr>\n",
       "    <tr>\n",
       "      <td>15</td>\n",
       "      <td>go is to went as do is to ?</td>\n",
       "      <td>did</td>\n",
       "      <td>-0.044809</td>\n",
       "      <td>do</td>\n",
       "      <td>0.521745</td>\n",
       "      <td>CBOW_50</td>\n",
       "      <td>False</td>\n",
       "    </tr>\n",
       "    <tr>\n",
       "      <td>16</td>\n",
       "      <td>go is to went as do is to ?</td>\n",
       "      <td>did</td>\n",
       "      <td>0.018310</td>\n",
       "      <td>do</td>\n",
       "      <td>0.583040</td>\n",
       "      <td>CBOW_150</td>\n",
       "      <td>False</td>\n",
       "    </tr>\n",
       "    <tr>\n",
       "      <td>17</td>\n",
       "      <td>go is to went as do is to ?</td>\n",
       "      <td>did</td>\n",
       "      <td>0.060902</td>\n",
       "      <td>go</td>\n",
       "      <td>0.621179</td>\n",
       "      <td>CBOW_300</td>\n",
       "      <td>False</td>\n",
       "    </tr>\n",
       "    <tr>\n",
       "      <td>18</td>\n",
       "      <td>know is to knew as is is to ?</td>\n",
       "      <td>was</td>\n",
       "      <td>-0.075716</td>\n",
       "      <td>know</td>\n",
       "      <td>0.606349</td>\n",
       "      <td>SG_50</td>\n",
       "      <td>False</td>\n",
       "    </tr>\n",
       "    <tr>\n",
       "      <td>19</td>\n",
       "      <td>know is to knew as is is to ?</td>\n",
       "      <td>was</td>\n",
       "      <td>-0.106214</td>\n",
       "      <td>know</td>\n",
       "      <td>0.567234</td>\n",
       "      <td>SG_150</td>\n",
       "      <td>False</td>\n",
       "    </tr>\n",
       "    <tr>\n",
       "      <td>20</td>\n",
       "      <td>know is to knew as is is to ?</td>\n",
       "      <td>was</td>\n",
       "      <td>-0.055568</td>\n",
       "      <td>know</td>\n",
       "      <td>0.561867</td>\n",
       "      <td>SG_300</td>\n",
       "      <td>False</td>\n",
       "    </tr>\n",
       "    <tr>\n",
       "      <td>21</td>\n",
       "      <td>know is to knew as is is to ?</td>\n",
       "      <td>was</td>\n",
       "      <td>0.065296</td>\n",
       "      <td>know</td>\n",
       "      <td>0.596623</td>\n",
       "      <td>CBOW_50</td>\n",
       "      <td>False</td>\n",
       "    </tr>\n",
       "    <tr>\n",
       "      <td>22</td>\n",
       "      <td>know is to knew as is is to ?</td>\n",
       "      <td>was</td>\n",
       "      <td>0.009287</td>\n",
       "      <td>know</td>\n",
       "      <td>0.588314</td>\n",
       "      <td>CBOW_150</td>\n",
       "      <td>False</td>\n",
       "    </tr>\n",
       "    <tr>\n",
       "      <td>23</td>\n",
       "      <td>know is to knew as is is to ?</td>\n",
       "      <td>was</td>\n",
       "      <td>0.075238</td>\n",
       "      <td>know</td>\n",
       "      <td>0.604841</td>\n",
       "      <td>CBOW_300</td>\n",
       "      <td>False</td>\n",
       "    </tr>\n",
       "  </tbody>\n",
       "</table>\n",
       "</div>"
      ],
      "text/plain": [
       "                      Analogy task True word      sim1 Predicted word  \\\n",
       "0      he is to him as she is to ?       her -0.145152             he   \n",
       "1      he is to him as she is to ?       her -0.069658            she   \n",
       "2      he is to him as she is to ?       her -0.012359            she   \n",
       "3      he is to him as she is to ?       her -0.100626             he   \n",
       "4      he is to him as she is to ?       her -0.088900            she   \n",
       "5      he is to him as she is to ?       her -0.063489            she   \n",
       "6   eye is to eyes as word is to ?     words  0.074199            eye   \n",
       "7   eye is to eyes as word is to ?     words  0.037332            eye   \n",
       "8   eye is to eyes as word is to ?     words -0.000736            eye   \n",
       "9   eye is to eyes as word is to ?     words  0.058812            eye   \n",
       "10  eye is to eyes as word is to ?     words  0.009874           word   \n",
       "11  eye is to eyes as word is to ?     words  0.019095           word   \n",
       "12     go is to went as do is to ?       did  0.118436             do   \n",
       "13     go is to went as do is to ?       did  0.129707             do   \n",
       "14     go is to went as do is to ?       did  0.082415             go   \n",
       "15     go is to went as do is to ?       did -0.044809             do   \n",
       "16     go is to went as do is to ?       did  0.018310             do   \n",
       "17     go is to went as do is to ?       did  0.060902             go   \n",
       "18   know is to knew as is is to ?       was -0.075716           know   \n",
       "19   know is to knew as is is to ?       was -0.106214           know   \n",
       "20   know is to knew as is is to ?       was -0.055568           know   \n",
       "21   know is to knew as is is to ?       was  0.065296           know   \n",
       "22   know is to knew as is is to ?       was  0.009287           know   \n",
       "23   know is to knew as is is to ?       was  0.075238           know   \n",
       "\n",
       "        sim2 Embedding Correct?  \n",
       "0   0.638298     SG_50    False  \n",
       "1   0.559665    SG_150    False  \n",
       "2   0.553275    SG_300    False  \n",
       "3   0.669631   CBOW_50    False  \n",
       "4   0.656205  CBOW_150    False  \n",
       "5   0.609733  CBOW_300    False  \n",
       "6   0.572375     SG_50    False  \n",
       "7   0.535911    SG_150    False  \n",
       "8   0.548023    SG_300    False  \n",
       "9   0.550975   CBOW_50    False  \n",
       "10  0.514873  CBOW_150    False  \n",
       "11  0.522593  CBOW_300    False  \n",
       "12  0.522044     SG_50    False  \n",
       "13  0.612519    SG_150    False  \n",
       "14  0.610539    SG_300    False  \n",
       "15  0.521745   CBOW_50    False  \n",
       "16  0.583040  CBOW_150    False  \n",
       "17  0.621179  CBOW_300    False  \n",
       "18  0.606349     SG_50    False  \n",
       "19  0.567234    SG_150    False  \n",
       "20  0.561867    SG_300    False  \n",
       "21  0.596623   CBOW_50    False  \n",
       "22  0.588314  CBOW_150    False  \n",
       "23  0.604841  CBOW_300    False  "
      ]
     },
     "execution_count": 124,
     "metadata": {},
     "output_type": "execute_result"
    }
   ],
   "source": [
    "df_syn = pd.DataFrame(columns = ['Analogy task', 'True word', 'sim1', 'Predicted word' ,'sim2', 'Embedding', 'Correct?'])\n",
    "\n",
    "firstRelations = [[\"he\", \"him\"], [\"eye\", \"eyes\"], [\"go\", \"went\"],  [\"know\", \"knew\"]]\n",
    "secondRelations = [[\"she\", \"her\"], [\"word\", \"words\"], [\"do\", \"did\"], [\"is\", \"was\"]]\n",
    "\n",
    "for rel_1, rel_2 in zip(firstRelations, secondRelations):\n",
    "    \n",
    "    for emb_name in emb_dict:\n",
    "\n",
    "        output = analogyOutput(emb_name, rel_1, rel_2)\n",
    "        df_syn = df_syn.append(pd.Series(output, index=df.columns), ignore_index=True)\n",
    "df_syn"
   ]
  },
  {
   "cell_type": "markdown",
   "metadata": {},
   "source": [
    "### Interpretation of results"
   ]
  },
  {
   "cell_type": "markdown",
   "metadata": {},
   "source": [
    "We only used words that were frequent in the corpus (approximately top 200). \n",
    "The first thing that stands out when looking at the results is that the models nearly always predict the first word in the first input relation or the first word from the second input relation. "
   ]
  },
  {
   "cell_type": "markdown",
   "metadata": {
    "colab_type": "text",
    "id": "5h-OWIF9AsKH"
   },
   "source": [
    "## Task 1.4 - Discussion\n",
    "Answer the following question:\n",
    "* Given the same number of sentences as input, CBOW and Skipgram arrange the data into different number of training samples. Which one has more and why?\n"
   ]
  },
  {
   "cell_type": "markdown",
   "metadata": {},
   "source": [
    "##### ANSWER:\n",
    "\n",
    "The skipgram model arranges the data in such a way that a certain word gets matched with its context words. More specifically, every word gets paired up with all the words in its defined context (*window_size* words in front of the word and *window_size* words behind the word), such that the training samples consist of word pairs, i.e. [(word, context_word1), (word, context_word2), (word, context_word3), (word, context_word4)] for a window_size of 2. \n",
    "\n",
    "On the contrary, the CBOW model matches the whole context of a word to that word itself. The embedding of all the words in the context gets averaged to obtain one embedding of the complete context. The training sample for one word takes the form ([context_word1, context_word2, context_word3, context_word4], word). \n",
    "\n",
    "Note that one single word in the corpus results in the generation of 2 * *window_size* training samples for the Skipgram model, whereas for the CBOW model one single word results in the generation of only 1 training sample. "
   ]
  },
  {
   "cell_type": "markdown",
   "metadata": {
    "colab_type": "text",
    "id": "mOa7EXhD-saI"
   },
   "source": [
    "# Question 2 - Peer review (0 pt):\n",
    "Finally, each group member must write a single paragraph outlining their opinion on the work distribution within the group. Did every group member\n",
    "contribute equally? Did you split up tasks in a fair manner, or jointly worked through the exercises. Do you think that some members of your group deserve a different grade from others? You can use the table below to make an overview of how the tasks were divided:\n",
    "\n"
   ]
  },
  {
   "cell_type": "markdown",
   "metadata": {
    "colab_type": "text",
    "id": "RWdcoJH__MqP"
   },
   "source": [
    "| Student name | Task  |\n",
    "|------|------|\n",
    "|  student name 1  | task x |\n",
    "| student name 2  | task x|\n",
    "| everyone | task x|\n"
   ]
  },
  {
   "cell_type": "code",
   "execution_count": null,
   "metadata": {
    "colab": {},
    "colab_type": "code",
    "id": "5ie_FQhMx6Jb"
   },
   "outputs": [],
   "source": []
  }
 ],
 "metadata": {
  "colab": {
   "collapsed_sections": [],
   "name": "Assignment_1_(TF_2).ipynb",
   "provenance": [],
   "toc_visible": true
  },
  "kernelspec": {
   "display_name": "Python 3",
   "language": "python",
   "name": "python3"
  },
  "language_info": {
   "codemirror_mode": {
    "name": "ipython",
    "version": 3
   },
   "file_extension": ".py",
   "mimetype": "text/x-python",
   "name": "python",
   "nbconvert_exporter": "python",
   "pygments_lexer": "ipython3",
   "version": "3.7.4"
  }
 },
 "nbformat": 4,
 "nbformat_minor": 4
}
